{
 "cells": [
  {
   "cell_type": "markdown",
   "id": "bf88b8b7",
   "metadata": {},
   "source": [
    "## Importing the necessary libraries"
   ]
  },
  {
   "cell_type": "code",
   "execution_count": 2,
   "id": "ee668de7",
   "metadata": {
    "colab": {
     "base_uri": "https://localhost:8080/"
    },
    "collapsed": true,
    "id": "ee668de7",
    "outputId": "89642ebf-6710-43f1-9280-6763825d0ffa"
   },
   "outputs": [
    {
     "name": "stdout",
     "output_type": "stream",
     "text": [
      "Requirement already satisfied: inference_sdk in c:\\users\\nawaf\\anaconda3\\lib\\site-packages (0.9.17)\n",
      "Requirement already satisfied: requests>=2.0.0 in c:\\users\\nawaf\\appdata\\roaming\\python\\python311\\site-packages (from inference_sdk) (2.31.0)\n",
      "Requirement already satisfied: dataclasses-json>=0.6.0 in c:\\users\\nawaf\\anaconda3\\lib\\site-packages (from inference_sdk) (0.6.4)\n",
      "Requirement already satisfied: opencv-python>=4.8.0.0 in c:\\users\\nawaf\\appdata\\roaming\\python\\python311\\site-packages (from inference_sdk) (4.8.0.76)\n",
      "Requirement already satisfied: pillow>=9.0.0 in c:\\users\\nawaf\\appdata\\roaming\\python\\python311\\site-packages (from inference_sdk) (10.0.0)\n",
      "Requirement already satisfied: supervision<1.0.0 in c:\\users\\nawaf\\anaconda3\\lib\\site-packages (from inference_sdk) (0.19.0)\n",
      "Requirement already satisfied: numpy>=1.20.0 in c:\\users\\nawaf\\appdata\\roaming\\python\\python311\\site-packages (from inference_sdk) (1.26.4)\n",
      "Requirement already satisfied: aiohttp>=3.9.0 in c:\\users\\nawaf\\anaconda3\\lib\\site-packages (from inference_sdk) (3.9.3)\n",
      "Requirement already satisfied: backoff>=2.2.0 in c:\\users\\nawaf\\anaconda3\\lib\\site-packages (from inference_sdk) (2.2.1)\n",
      "Requirement already satisfied: aioresponses>=0.7.6 in c:\\users\\nawaf\\anaconda3\\lib\\site-packages (from inference_sdk) (0.7.6)\n",
      "Requirement already satisfied: py-cpuinfo>=9.0.0 in c:\\users\\nawaf\\anaconda3\\lib\\site-packages (from inference_sdk) (9.0.0)\n",
      "Requirement already satisfied: aiosignal>=1.1.2 in c:\\users\\nawaf\\anaconda3\\lib\\site-packages (from aiohttp>=3.9.0->inference_sdk) (1.2.0)\n",
      "Requirement already satisfied: attrs>=17.3.0 in c:\\users\\nawaf\\anaconda3\\lib\\site-packages (from aiohttp>=3.9.0->inference_sdk) (22.1.0)\n",
      "Requirement already satisfied: frozenlist>=1.1.1 in c:\\users\\nawaf\\anaconda3\\lib\\site-packages (from aiohttp>=3.9.0->inference_sdk) (1.3.3)\n",
      "Requirement already satisfied: multidict<7.0,>=4.5 in c:\\users\\nawaf\\anaconda3\\lib\\site-packages (from aiohttp>=3.9.0->inference_sdk) (6.0.2)\n",
      "Requirement already satisfied: yarl<2.0,>=1.0 in c:\\users\\nawaf\\anaconda3\\lib\\site-packages (from aiohttp>=3.9.0->inference_sdk) (1.8.1)\n",
      "Requirement already satisfied: marshmallow<4.0.0,>=3.18.0 in c:\\users\\nawaf\\anaconda3\\lib\\site-packages (from dataclasses-json>=0.6.0->inference_sdk) (3.21.1)\n",
      "Requirement already satisfied: typing-inspect<1,>=0.4.0 in c:\\users\\nawaf\\anaconda3\\lib\\site-packages (from dataclasses-json>=0.6.0->inference_sdk) (0.9.0)\n",
      "Requirement already satisfied: charset-normalizer<4,>=2 in c:\\users\\nawaf\\appdata\\roaming\\python\\python311\\site-packages (from requests>=2.0.0->inference_sdk) (3.3.2)\n",
      "Requirement already satisfied: idna<4,>=2.5 in c:\\users\\nawaf\\appdata\\roaming\\python\\python311\\site-packages (from requests>=2.0.0->inference_sdk) (3.6)\n",
      "Requirement already satisfied: urllib3<3,>=1.21.1 in c:\\users\\nawaf\\appdata\\roaming\\python\\python311\\site-packages (from requests>=2.0.0->inference_sdk) (1.26.16)\n",
      "Requirement already satisfied: certifi>=2017.4.17 in c:\\users\\nawaf\\appdata\\roaming\\python\\python311\\site-packages (from requests>=2.0.0->inference_sdk) (2024.2.2)\n",
      "Requirement already satisfied: defusedxml<0.8.0,>=0.7.1 in c:\\users\\nawaf\\anaconda3\\lib\\site-packages (from supervision<1.0.0->inference_sdk) (0.7.1)\n",
      "Requirement already satisfied: matplotlib>=3.6.0 in c:\\users\\nawaf\\appdata\\roaming\\python\\python311\\site-packages (from supervision<1.0.0->inference_sdk) (3.7.3)\n",
      "Requirement already satisfied: opencv-python-headless>=4.5.5.64 in c:\\users\\nawaf\\anaconda3\\lib\\site-packages (from supervision<1.0.0->inference_sdk) (4.9.0.80)\n",
      "Requirement already satisfied: pyyaml>=5.3 in c:\\users\\nawaf\\anaconda3\\lib\\site-packages (from supervision<1.0.0->inference_sdk) (6.0)\n",
      "Requirement already satisfied: scipy<2.0.0,>=1.10.0 in c:\\users\\nawaf\\appdata\\roaming\\python\\python311\\site-packages (from supervision<1.0.0->inference_sdk) (1.12.0)\n",
      "Requirement already satisfied: packaging>=17.0 in c:\\users\\nawaf\\appdata\\roaming\\python\\python311\\site-packages (from marshmallow<4.0.0,>=3.18.0->dataclasses-json>=0.6.0->inference_sdk) (23.1)\n",
      "Requirement already satisfied: contourpy>=1.0.1 in c:\\users\\nawaf\\appdata\\roaming\\python\\python311\\site-packages (from matplotlib>=3.6.0->supervision<1.0.0->inference_sdk) (1.1.0)\n",
      "Requirement already satisfied: cycler>=0.10 in c:\\users\\nawaf\\appdata\\roaming\\python\\python311\\site-packages (from matplotlib>=3.6.0->supervision<1.0.0->inference_sdk) (0.11.0)\n",
      "Requirement already satisfied: fonttools>=4.22.0 in c:\\users\\nawaf\\appdata\\roaming\\python\\python311\\site-packages (from matplotlib>=3.6.0->supervision<1.0.0->inference_sdk) (4.42.1)\n",
      "Requirement already satisfied: kiwisolver>=1.0.1 in c:\\users\\nawaf\\appdata\\roaming\\python\\python311\\site-packages (from matplotlib>=3.6.0->supervision<1.0.0->inference_sdk) (1.4.5)\n",
      "Requirement already satisfied: pyparsing>=2.3.1 in c:\\users\\nawaf\\appdata\\roaming\\python\\python311\\site-packages (from matplotlib>=3.6.0->supervision<1.0.0->inference_sdk) (3.1.1)\n",
      "Requirement already satisfied: python-dateutil>=2.7 in c:\\users\\nawaf\\appdata\\roaming\\python\\python311\\site-packages (from matplotlib>=3.6.0->supervision<1.0.0->inference_sdk) (2.8.2)\n",
      "Requirement already satisfied: mypy-extensions>=0.3.0 in c:\\users\\nawaf\\anaconda3\\lib\\site-packages (from typing-inspect<1,>=0.4.0->dataclasses-json>=0.6.0->inference_sdk) (1.0.0)\n",
      "Requirement already satisfied: typing-extensions>=3.7.4 in c:\\users\\nawaf\\appdata\\roaming\\python\\python311\\site-packages (from typing-inspect<1,>=0.4.0->dataclasses-json>=0.6.0->inference_sdk) (4.9.0)\n",
      "Requirement already satisfied: six>=1.5 in c:\\users\\nawaf\\appdata\\roaming\\python\\python311\\site-packages (from python-dateutil>=2.7->matplotlib>=3.6.0->supervision<1.0.0->inference_sdk) (1.16.0)\n"
     ]
    }
   ],
   "source": [
    "!pip install inference_sdk"
   ]
  },
  {
   "cell_type": "code",
   "execution_count": 4,
   "id": "4ef72fa5",
   "metadata": {
    "collapsed": true
   },
   "outputs": [
    {
     "name": "stdout",
     "output_type": "stream",
     "text": [
      "Requirement already satisfied: rembg in c:\\users\\nawaf\\anaconda3\\lib\\site-packages (2.0.56)\n",
      "Requirement already satisfied: jsonschema in c:\\users\\nawaf\\anaconda3\\lib\\site-packages (from rembg) (4.17.3)\n",
      "Requirement already satisfied: numpy in c:\\users\\nawaf\\appdata\\roaming\\python\\python311\\site-packages (from rembg) (1.26.4)\n",
      "Requirement already satisfied: onnxruntime in c:\\users\\nawaf\\anaconda3\\lib\\site-packages (from rembg) (1.17.1)\n",
      "Requirement already satisfied: opencv-python-headless in c:\\users\\nawaf\\anaconda3\\lib\\site-packages (from rembg) (4.10.0.84)\n",
      "Requirement already satisfied: pillow in c:\\users\\nawaf\\appdata\\roaming\\python\\python311\\site-packages (from rembg) (10.0.0)\n",
      "Requirement already satisfied: pooch in c:\\users\\nawaf\\anaconda3\\lib\\site-packages (from rembg) (1.8.1)\n",
      "Requirement already satisfied: pymatting in c:\\users\\nawaf\\anaconda3\\lib\\site-packages (from rembg) (1.1.12)\n",
      "Requirement already satisfied: scikit-image in c:\\users\\nawaf\\anaconda3\\lib\\site-packages (from rembg) (0.20.0)\n",
      "Requirement already satisfied: scipy in c:\\users\\nawaf\\appdata\\roaming\\python\\python311\\site-packages (from rembg) (1.12.0)\n",
      "Requirement already satisfied: tqdm in c:\\users\\nawaf\\anaconda3\\lib\\site-packages (from rembg) (4.65.0)\n",
      "Requirement already satisfied: attrs>=17.4.0 in c:\\users\\nawaf\\anaconda3\\lib\\site-packages (from jsonschema->rembg) (22.1.0)\n",
      "Requirement already satisfied: pyrsistent!=0.17.0,!=0.17.1,!=0.17.2,>=0.14.0 in c:\\users\\nawaf\\anaconda3\\lib\\site-packages (from jsonschema->rembg) (0.18.0)\n",
      "Requirement already satisfied: coloredlogs in c:\\users\\nawaf\\anaconda3\\lib\\site-packages (from onnxruntime->rembg) (15.0.1)\n",
      "Requirement already satisfied: flatbuffers in c:\\users\\nawaf\\anaconda3\\lib\\site-packages (from onnxruntime->rembg) (24.3.25)\n",
      "Requirement already satisfied: packaging in c:\\users\\nawaf\\appdata\\roaming\\python\\python311\\site-packages (from onnxruntime->rembg) (23.1)\n",
      "Requirement already satisfied: protobuf in c:\\users\\nawaf\\appdata\\roaming\\python\\python311\\site-packages (from onnxruntime->rembg) (4.23.4)\n",
      "Requirement already satisfied: sympy in c:\\users\\nawaf\\anaconda3\\lib\\site-packages (from onnxruntime->rembg) (1.11.1)\n",
      "Requirement already satisfied: platformdirs>=2.5.0 in c:\\users\\nawaf\\appdata\\roaming\\python\\python311\\site-packages (from pooch->rembg) (4.3.6)\n",
      "Requirement already satisfied: requests>=2.19.0 in c:\\users\\nawaf\\anaconda3\\lib\\site-packages (from pooch->rembg) (2.31.0)\n",
      "Requirement already satisfied: numba!=0.49.0 in c:\\users\\nawaf\\anaconda3\\lib\\site-packages (from pymatting->rembg) (0.59.0)\n",
      "Requirement already satisfied: networkx>=2.8 in c:\\users\\nawaf\\appdata\\roaming\\python\\python311\\site-packages (from scikit-image->rembg) (3.2.1)\n",
      "Requirement already satisfied: imageio>=2.4.1 in c:\\users\\nawaf\\anaconda3\\lib\\site-packages (from scikit-image->rembg) (2.26.0)\n",
      "Requirement already satisfied: tifffile>=2019.7.26 in c:\\users\\nawaf\\anaconda3\\lib\\site-packages (from scikit-image->rembg) (2023.4.12)\n",
      "Requirement already satisfied: PyWavelets>=1.1.1 in c:\\users\\nawaf\\anaconda3\\lib\\site-packages (from scikit-image->rembg) (1.4.1)\n",
      "Requirement already satisfied: lazy_loader>=0.1 in c:\\users\\nawaf\\anaconda3\\lib\\site-packages (from scikit-image->rembg) (0.2)\n",
      "Requirement already satisfied: colorama in c:\\users\\nawaf\\appdata\\roaming\\python\\python311\\site-packages (from tqdm->rembg) (0.4.6)\n",
      "Requirement already satisfied: llvmlite<0.43,>=0.42.0dev0 in c:\\users\\nawaf\\anaconda3\\lib\\site-packages (from numba!=0.49.0->pymatting->rembg) (0.42.0)\n",
      "Requirement already satisfied: charset-normalizer<4,>=2 in c:\\users\\nawaf\\appdata\\roaming\\python\\python311\\site-packages (from requests>=2.19.0->pooch->rembg) (3.3.2)\n",
      "Requirement already satisfied: idna<4,>=2.5 in c:\\users\\nawaf\\anaconda3\\lib\\site-packages (from requests>=2.19.0->pooch->rembg) (3.4)\n",
      "Requirement already satisfied: urllib3<3,>=1.21.1 in c:\\users\\nawaf\\appdata\\roaming\\python\\python311\\site-packages (from requests>=2.19.0->pooch->rembg) (1.26.16)\n",
      "Requirement already satisfied: certifi>=2017.4.17 in c:\\users\\nawaf\\appdata\\roaming\\python\\python311\\site-packages (from requests>=2.19.0->pooch->rembg) (2024.2.2)\n",
      "Requirement already satisfied: humanfriendly>=9.1 in c:\\users\\nawaf\\anaconda3\\lib\\site-packages (from coloredlogs->onnxruntime->rembg) (10.0)\n",
      "Requirement already satisfied: mpmath>=0.19 in c:\\users\\nawaf\\appdata\\roaming\\python\\python311\\site-packages (from sympy->onnxruntime->rembg) (1.3.0)\n",
      "Requirement already satisfied: pyreadline3 in c:\\users\\nawaf\\anaconda3\\lib\\site-packages (from humanfriendly>=9.1->coloredlogs->onnxruntime->rembg) (3.4.1)\n",
      "Note: you may need to restart the kernel to use updated packages.\n"
     ]
    }
   ],
   "source": [
    "pip install rembg"
   ]
  },
  {
   "cell_type": "code",
   "execution_count": 6,
   "id": "59c6f60b",
   "metadata": {
    "id": "59c6f60b"
   },
   "outputs": [],
   "source": [
    "import pandas as pd\n",
    "import cv2\n",
    "import numpy as np\n",
    "from sklearn.cluster import KMeans\n",
    "import os\n",
    "\n",
    "from rembg import remove\n",
    "\n",
    "from PIL import Image\n",
    "from IPython.display import display\n",
    "\n",
    "# import the inference-sdk\n",
    "from inference_sdk import InferenceHTTPClient"
   ]
  },
  {
   "cell_type": "markdown",
   "id": "57fbfc41",
   "metadata": {},
   "source": [
    "## Loading the dataset"
   ]
  },
  {
   "cell_type": "markdown",
   "id": "0c38c287",
   "metadata": {},
   "source": [
    "### Function for removing the background of input images"
   ]
  },
  {
   "cell_type": "code",
   "execution_count": 7,
   "id": "03fa07f2",
   "metadata": {},
   "outputs": [],
   "source": [
    "def remove_bg(img):\n",
    "    # Convert the input image to a numpy array\n",
    "    input_array = np.array(input_image)\n",
    "    # Apply background removal using rembg\n",
    "    output_array = remove(input_array)\n",
    "    # Create a PIL Image from the output array\n",
    "    output_image = Image.fromarray(output_array)\n",
    "    # Ensure the output has an alpha channel for transparency handling\n",
    "    output_image = output_image.convert(\"RGBA\")\n",
    "    # Create a white background image with the same size as the output\n",
    "    white_background = Image.new(\"RGBA\", output_image.size, (255, 255, 255, 255))\n",
    "    # Composite the output image onto the white background\n",
    "    composited_image = Image.alpha_composite(white_background, output_image)\n",
    "    # Convert to RGB mode (drops alpha channel)\n",
    "    composited_image = composited_image.convert(\"RGB\")\n",
    "    return composited_image"
   ]
  },
  {
   "cell_type": "code",
   "execution_count": 100,
   "id": "f107f47f",
   "metadata": {},
   "outputs": [],
   "source": [
    "file = \"input/original/14606444_5.jpg\"\n",
    "# file = \"TShirt-on-bed.jpg\"\n",
    "\n",
    "# Load the input image\n",
    "input_image = Image.open(file)\n",
    "\n",
    "composited_image = remove_bg(input_image)\n",
    "    \n",
    "# Save the output image with a white background\n",
    "composited_image.save('PNGTest1.png')"
   ]
  },
  {
   "attachments": {},
   "cell_type": "markdown",
   "id": "4b7092ef",
   "metadata": {},
   "source": [
    "Image before removing the background:\n",
    "<img src=\"TShirt-on-bed.jpg\" alt=\"Drawing\" style=\"width: 400px;\"/> \n",
    "\n",
    "Image after removing the background:\n",
    "<img src=\"PNGTest1.png\" alt=\"Drawing\" style=\"width: 400px;\"/>"
   ]
  },
  {
   "cell_type": "markdown",
   "id": "ad42424e",
   "metadata": {
    "id": "ad42424e"
   },
   "source": [
    "### Importing the input images"
   ]
  },
  {
   "cell_type": "markdown",
   "id": "2d29b0b3",
   "metadata": {},
   "source": [
    "Add all input images of clothes to a folder called `input/original`"
   ]
  },
  {
   "cell_type": "markdown",
   "id": "8369a74b",
   "metadata": {},
   "source": [
    "If the code produces an error, create a folder called `input/no_background` as well."
   ]
  },
  {
   "cell_type": "code",
   "execution_count": 65,
   "id": "a0b43d2c",
   "metadata": {},
   "outputs": [],
   "source": [
    "folder_path = \"input/original\"\n",
    "filenames = []\n",
    "for filename in os.listdir(folder_path):\n",
    "# Check if it's a file (not a directory)\n",
    "    if os.path.isfile(os.path.join(folder_path, filename)):\n",
    "        filenames.append(folder_path + '/' + filename)\n",
    "# filenames.remove('input/original/desktop.ini')\n",
    "\n",
    "# filenames\n",
    "\n",
    "for file in filenames:\n",
    "    # Load the input image\n",
    "    input_image = Image.open(file)\n",
    "\n",
    "    composited_image = remove_bg(input_image)\n",
    "\n",
    "    # Save the output image\n",
    "    new_string = file[len(folder_path):]\n",
    "    composited_image.save('input/no_background/' + new_string)"
   ]
  },
  {
   "cell_type": "code",
   "execution_count": 48,
   "id": "7afd3e18",
   "metadata": {
    "colab": {
     "base_uri": "https://localhost:8080/"
    },
    "collapsed": true,
    "id": "7afd3e18",
    "outputId": "0a153ce9-05a7-4848-e45d-d2a0d2cb8844"
   },
   "outputs": [
    {
     "data": {
      "text/plain": [
       "['input/original/145298325_1.jpg',\n",
       " 'input/original/145336458_2.jpg',\n",
       " 'input/original/145364239_3.jpg',\n",
       " 'input/original/145364654_3.jpg',\n",
       " 'input/original/145398157_9.jpg',\n",
       " 'input/original/145447610_8.jpg',\n",
       " 'input/original/145447610_9.jpg',\n",
       " 'input/original/145459795_3.jpg',\n",
       " 'input/original/14546920_4.jpg',\n",
       " 'input/original/145476098_2.jpg',\n",
       " 'input/original/145496261_5.jpg',\n",
       " 'input/original/145505437_2.jpg',\n",
       " 'input/original/145513385_9.jpg',\n",
       " 'input/original/145527800_3.jpg',\n",
       " 'input/original/145549309_9.jpg',\n",
       " 'input/original/145562011_3.jpg',\n",
       " 'input/original/145568513_3.jpg',\n",
       " 'input/original/14558253_3.jpg',\n",
       " 'input/original/145585069_4.jpg',\n",
       " 'input/original/145586377_3.jpg',\n",
       " 'input/original/145588019_3.jpg',\n",
       " 'input/original/145646879_4.jpg',\n",
       " 'input/original/14566039_23.jpg',\n",
       " 'input/original/145667456_3.jpg',\n",
       " 'input/original/145670068_3.jpg',\n",
       " 'input/original/145699942_2.jpg',\n",
       " 'input/original/14570653_3.jpg',\n",
       " 'input/original/145719959_2.jpg',\n",
       " 'input/original/145727597_9.jpg',\n",
       " 'input/original/145787887_3.jpg',\n",
       " 'input/original/145804716_1.jpg',\n",
       " 'input/original/145807920_1.jpg',\n",
       " 'input/original/145811724_6.jpg',\n",
       " 'input/original/145813948_3.jpg',\n",
       " 'input/original/145823281_2.jpg',\n",
       " 'input/original/145848648_3.jpg',\n",
       " 'input/original/14585095_3.jpg',\n",
       " 'input/original/145884732_2.jpg',\n",
       " 'input/original/145903639_2.jpg',\n",
       " 'input/original/145945951_3.jpg',\n",
       " 'input/original/145994221_14.jpg',\n",
       " 'input/original/145994221_7.jpg',\n",
       " 'input/original/146000943_5.jpg',\n",
       " 'input/original/146027224_3.jpg',\n",
       " 'input/original/146035097_3.jpg',\n",
       " 'input/original/146035176_2.jpg',\n",
       " 'input/original/146041048_2.jpg',\n",
       " 'input/original/14606444_5.jpg',\n",
       " 'input/original/14606500_6.jpg',\n",
       " 'input/original/146080201_1.jpg',\n",
       " 'input/original/146122294_3.jpg',\n",
       " 'input/original/146140959_3.jpg',\n",
       " 'input/original/146152015_2.jpg',\n",
       " 'input/original/146213732_3.jpg',\n",
       " 'input/original/14623348_4.jpg',\n",
       " 'input/original/146243942_5.jpg',\n",
       " 'input/original/146247451_1.jpg',\n",
       " 'input/original/14626974_3.jpg',\n",
       " 'input/original/146288004_4.jpg',\n",
       " 'input/original/146309485_3.jpg',\n",
       " 'input/original/177525796_1.jpg',\n",
       " 'input/original/177533492_1.jpg',\n",
       " 'input/original/177533492_2.jpg',\n",
       " 'input/original/177536328_1.jpg',\n",
       " 'input/original/177537334_1.jpg',\n",
       " 'input/original/177537529_2.jpg',\n",
       " 'input/original/177538765_1.jpg',\n",
       " 'input/original/177551660_1.jpg',\n",
       " 'input/original/177553275_1.jpg',\n",
       " 'input/original/177576894_1.jpg',\n",
       " 'input/original/177623241_1.jpg',\n",
       " 'input/original/177644683_1.jpg',\n",
       " 'input/original/177645191_2.jpg',\n",
       " 'input/original/177666653_1.jpg',\n",
       " 'input/original/177686634_1.jpg',\n",
       " 'input/original/177686921_1.jpg',\n",
       " 'input/original/177723985_2.jpg',\n",
       " 'input/original/177750783_1.jpg',\n",
       " 'input/original/177771653_1.jpg',\n",
       " 'input/original/177807948_1.jpg',\n",
       " 'input/original/177838651_1.jpg',\n",
       " 'input/original/177854078_2.jpg',\n",
       " 'input/original/177866078_1.jpg',\n",
       " 'input/original/177866078_2.jpg',\n",
       " 'input/original/177867114_1.jpg',\n",
       " 'input/original/177888763_2.jpg',\n",
       " 'input/original/177896516_1.jpg',\n",
       " 'input/original/177911116_1.jpg',\n",
       " 'input/original/177966691_1.jpg',\n",
       " 'input/original/177971016_1.jpg',\n",
       " 'input/original/177976821_1.jpg',\n",
       " 'input/original/177978653_1.jpg',\n",
       " 'input/original/178032835_2.jpg',\n",
       " 'input/original/178044331_1.jpg',\n",
       " 'input/original/178058446_1.jpg',\n",
       " 'input/original/178060703_1.jpg',\n",
       " 'input/original/178069915_1.jpg',\n",
       " 'input/original/178081518_1.jpg',\n",
       " 'input/original/178096975_1.jpg',\n",
       " 'input/original/178096975_20.jpg',\n",
       " 'input/original/178118160_1.jpg',\n",
       " 'input/original/178131353_1.jpg',\n",
       " 'input/original/178155703_2.jpg',\n",
       " 'input/original/178168556_1.jpg',\n",
       " 'input/original/178174244_1.jpg',\n",
       " 'input/original/178194918_2.jpg',\n",
       " 'input/original/178199817_1.jpg',\n",
       " 'input/original/178199858_1.jpg',\n",
       " 'input/original/178220054_1.jpg',\n",
       " 'input/original/178229101_2.jpg',\n",
       " 'input/original/178259192_1.jpg',\n",
       " 'input/original/178410322_2.jpg',\n",
       " 'input/original/178436834_1.jpg',\n",
       " 'input/original/178446954_1.jpg',\n",
       " 'input/original/178465587_1.jpg',\n",
       " 'input/original/178470458_1.jpg',\n",
       " 'input/original/178475690_1.jpg',\n",
       " 'input/original/178475690_2.jpg',\n",
       " 'input/original/178476125_1.jpg',\n",
       " 'input/original/178476454_1.jpg',\n",
       " 'input/original/193042393_2.jpg',\n",
       " 'input/original/193051836_2.jpg',\n",
       " 'input/original/193058429_3.jpg',\n",
       " 'input/original/193064575_3.jpg',\n",
       " 'input/original/193066323_2.jpg',\n",
       " 'input/original/193091266_3.jpg',\n",
       " 'input/original/193112748_2.jpg',\n",
       " 'input/original/193115083_2.jpg',\n",
       " 'input/original/193120939_3.jpg',\n",
       " 'input/original/193136504_4.jpg',\n",
       " 'input/original/193151387_2.jpg',\n",
       " 'input/original/193156718_2.jpg',\n",
       " 'input/original/193181088_1.jpg',\n",
       " 'input/original/193186861_3.jpg',\n",
       " 'input/original/193190247_2.jpg',\n",
       " 'input/original/193207288_2.jpg',\n",
       " 'input/original/193210065_2.jpg',\n",
       " 'input/original/193211187_2.jpg',\n",
       " 'input/original/193213668_3.jpg',\n",
       " 'input/original/193213997_3.jpg',\n",
       " 'input/original/193215645_1.jpg',\n",
       " 'input/original/193245413_3.jpg',\n",
       " 'input/original/193251699_2.jpg',\n",
       " 'input/original/193272732_7.jpg',\n",
       " 'input/original/193283422_3.jpg',\n",
       " 'input/original/193288386_3.jpg',\n",
       " 'input/original/193290825_3.jpg',\n",
       " 'input/original/193298222_3.jpg',\n",
       " 'input/original/193309875_3.jpg',\n",
       " 'input/original/193320238_3.jpg',\n",
       " 'input/original/193371249_3.jpg',\n",
       " 'input/original/193389364_2.jpg',\n",
       " 'input/original/193393992_2.jpg',\n",
       " 'input/original/193399471_2.jpg',\n",
       " 'input/original/193399509_3.jpg',\n",
       " 'input/original/193405026_3.jpg',\n",
       " 'input/original/193408203_2.jpg',\n",
       " 'input/original/193411396_3.jpg',\n",
       " 'input/original/193426884_3.jpg',\n",
       " 'input/original/193433005_3.jpg',\n",
       " 'input/original/193440081_3.jpg',\n",
       " 'input/original/193460223_3.jpg',\n",
       " 'input/original/193493468_3.jpg',\n",
       " 'input/original/193497458_3.jpg',\n",
       " 'input/original/193511799_3.jpg',\n",
       " 'input/original/193549441_3.jpg',\n",
       " 'input/original/193567865_3.jpg',\n",
       " 'input/original/193569448_2.jpg',\n",
       " 'input/original/193572994_2.jpg',\n",
       " 'input/original/193591002_3.jpg',\n",
       " 'input/original/193591064_3.jpg',\n",
       " 'input/original/193599074_2.jpg',\n",
       " 'input/original/193610425_3.jpg',\n",
       " 'input/original/193621987_2.jpg',\n",
       " 'input/original/193628478_2.jpg',\n",
       " 'input/original/193634829_10.jpg',\n",
       " 'input/original/193637426_2.jpg',\n",
       " 'input/original/193639690_2.jpg',\n",
       " 'input/original/193640388_2.jpg',\n",
       " 'input/original/193641749_2.jpg',\n",
       " 'input/original/207363284_2.jpg',\n",
       " 'input/original/207368009_3.jpg',\n",
       " 'input/original/207369823_2.jpg',\n",
       " 'input/original/207390236_2.jpg',\n",
       " 'input/original/207391834_2.jpg',\n",
       " 'input/original/207395450_2.jpg',\n",
       " 'input/original/207398245_2.jpg',\n",
       " 'input/original/207405059_8.jpg',\n",
       " 'input/original/207428917_2.jpg',\n",
       " 'input/original/207434818_1.jpg',\n",
       " 'input/original/207435676_2.jpg',\n",
       " 'input/original/207437595_1.jpg',\n",
       " 'input/original/207437634_2.jpg',\n",
       " 'input/original/207439281_2.jpg',\n",
       " 'input/original/207440656_1.jpg',\n",
       " 'input/original/207440675_3.jpg',\n",
       " 'input/original/207441559_2.jpg',\n",
       " 'input/original/207443899_2.jpg',\n",
       " 'input/original/207444216_2.jpg',\n",
       " 'input/original/207446259_2.jpg',\n",
       " 'input/original/207449133_2.jpg',\n",
       " 'input/original/207457943_2.jpg',\n",
       " 'input/original/207458099_1.jpg',\n",
       " 'input/original/207459796_2.jpg',\n",
       " 'input/original/207459796_3.jpg',\n",
       " 'input/original/207460039_2.jpg',\n",
       " 'input/original/207460563_2.jpg',\n",
       " 'input/original/207462752_2.jpg',\n",
       " 'input/original/207463779_2.jpg',\n",
       " 'input/original/207469011_1.jpg',\n",
       " 'input/original/207472252_1.jpg',\n",
       " 'input/original/207474886_3.jpg',\n",
       " 'input/original/207477136_2.jpg',\n",
       " 'input/original/207479671_2.jpg',\n",
       " 'input/original/207480535_2.jpg',\n",
       " 'input/original/207482071_1.jpg',\n",
       " 'input/original/207483333_1.jpg',\n",
       " 'input/original/207495809_1.jpg',\n",
       " 'input/original/207500591_2.jpg',\n",
       " 'input/original/207503552_2.jpg',\n",
       " 'input/original/207506018_2.jpg',\n",
       " 'input/original/207507637_2.jpg',\n",
       " 'input/original/207508599_2.jpg',\n",
       " 'input/original/207508804_2.jpg',\n",
       " 'input/original/207508993_2.jpg',\n",
       " 'input/original/207513401_2.jpg',\n",
       " 'input/original/207513564_2.jpg',\n",
       " 'input/original/207530783_2.jpg',\n",
       " 'input/original/207543127_2.jpg',\n",
       " 'input/original/207550853_2.jpg',\n",
       " 'input/original/207554383_2.jpg',\n",
       " 'input/original/207554535_1.jpg',\n",
       " 'input/original/207559852_2.jpg',\n",
       " 'input/original/207571521_2.jpg',\n",
       " 'input/original/207577310_2.jpg',\n",
       " 'input/original/207586100_2.jpg',\n",
       " 'input/original/207594639_3.jpg',\n",
       " 'input/original/207596465_2.jpg',\n",
       " 'input/original/207600167_2.jpg',\n",
       " 'input/original/207602996_2.jpg',\n",
       " 'input/original/96411715_1.jpg']"
      ]
     },
     "execution_count": 48,
     "metadata": {},
     "output_type": "execute_result"
    }
   ],
   "source": [
    "folder_path = \"input/original\"\n",
    "filenames = []\n",
    "for filename in os.listdir(folder_path):\n",
    "# Check if it's a file (not a directory)\n",
    "    if os.path.isfile(os.path.join(folder_path, filename)):\n",
    "        filenames.append(folder_path + '/' + filename)\n",
    "# filenames.remove('input/original/desktop.ini')\n",
    "\n",
    "filenames"
   ]
  },
  {
   "cell_type": "code",
   "execution_count": 67,
   "id": "b83fa3ce",
   "metadata": {
    "colab": {
     "base_uri": "https://localhost:8080/",
     "height": 89
    },
    "id": "b83fa3ce",
    "outputId": "1270c01d-38e8-41f4-c31d-478247df74bf"
   },
   "outputs": [
    {
     "data": {
      "text/html": [
       "<div>\n",
       "<style scoped>\n",
       "    .dataframe tbody tr th:only-of-type {\n",
       "        vertical-align: middle;\n",
       "    }\n",
       "\n",
       "    .dataframe tbody tr th {\n",
       "        vertical-align: top;\n",
       "    }\n",
       "\n",
       "    .dataframe thead th {\n",
       "        text-align: right;\n",
       "    }\n",
       "</style>\n",
       "<table border=\"1\" class=\"dataframe\">\n",
       "  <thead>\n",
       "    <tr style=\"text-align: right;\">\n",
       "      <th></th>\n",
       "      <th>FileName</th>\n",
       "      <th>ID</th>\n",
       "      <th>Color</th>\n",
       "      <th>Casual</th>\n",
       "      <th>Formal</th>\n",
       "      <th>Party</th>\n",
       "    </tr>\n",
       "  </thead>\n",
       "  <tbody>\n",
       "  </tbody>\n",
       "</table>\n",
       "</div>"
      ],
      "text/plain": [
       "Empty DataFrame\n",
       "Columns: [FileName, ID, Color, Casual, Formal, Party]\n",
       "Index: []"
      ]
     },
     "execution_count": 67,
     "metadata": {},
     "output_type": "execute_result"
    }
   ],
   "source": [
    "column_names = ['FileName', 'ID', 'Color', 'Casual', 'Formal', 'Party']\n",
    "\n",
    "df = pd.DataFrame(columns=column_names)\n",
    "\n",
    "df"
   ]
  },
  {
   "cell_type": "markdown",
   "id": "804e0164",
   "metadata": {
    "id": "804e0164"
   },
   "source": [
    "### Detecting the Type and Occasion"
   ]
  },
  {
   "cell_type": "code",
   "execution_count": 19,
   "id": "558aab90",
   "metadata": {},
   "outputs": [],
   "source": [
    "# Loading the API Key from .env\n",
    "import os\n",
    "from dotenv import load_dotenv\n",
    "\n",
    "load_dotenv()\n",
    "\n",
    "MY_ENV_VAR = os.getenv('ROBOFLOW_API_KEY')"
   ]
  },
  {
   "cell_type": "markdown",
   "id": "a790853b",
   "metadata": {},
   "source": [
    "Using the Roboflow model trained on the manually annotated dataset."
   ]
  },
  {
   "cell_type": "code",
   "execution_count": 21,
   "id": "7cb3cc85",
   "metadata": {
    "colab": {
     "base_uri": "https://localhost:8080/"
    },
    "id": "7cb3cc85",
    "outputId": "364d1104-b3dd-49c0-dc0a-ab15ccb8b5aa"
   },
   "outputs": [
    {
     "data": {
      "text/plain": [
       "['party', 'shoes']"
      ]
     },
     "execution_count": 21,
     "metadata": {},
     "output_type": "execute_result"
    }
   ],
   "source": [
    "# Initialize the client\n",
    "CLIENT = InferenceHTTPClient(\n",
    "    api_url=\"https://detect.roboflow.com\",\n",
    "    api_key=MY_ENV_VAR\n",
    ")\n",
    "\n",
    "# Infer on a local image\n",
    "result = CLIENT.infer(\"input/original/14606444_5.jpg\", model_id=\"occasion-detection/1\")['predicted_classes']\n",
    "result"
   ]
  },
  {
   "cell_type": "code",
   "execution_count": 22,
   "id": "7d840ebe",
   "metadata": {
    "colab": {
     "base_uri": "https://localhost:8080/"
    },
    "id": "7d840ebe",
    "outputId": "8aa86b03-1e9d-47d0-f1e4-b4718b86a46c"
   },
   "outputs": [
    {
     "data": {
      "text/plain": [
       "False"
      ]
     },
     "execution_count": 22,
     "metadata": {},
     "output_type": "execute_result"
    }
   ],
   "source": [
    "'casual' in result\n",
    "# result"
   ]
  },
  {
   "cell_type": "code",
   "execution_count": 68,
   "id": "9596477b",
   "metadata": {
    "id": "9596477b"
   },
   "outputs": [],
   "source": [
    "type_list = ['upper', 'lower', 'over', 'shoes']\n",
    "\n",
    "type_dictionary = {\n",
    "    'upper' : 0,\n",
    "    'lower' : 1,\n",
    "    'over' : 2,\n",
    "    'shoes': 3\n",
    "}"
   ]
  },
  {
   "cell_type": "code",
   "execution_count": 69,
   "id": "a51557dc",
   "metadata": {
    "colab": {
     "base_uri": "https://localhost:8080/"
    },
    "id": "a51557dc",
    "outputId": "27f842f2-eea8-4cb7-cced-3525d3a42df8"
   },
   "outputs": [
    {
     "data": {
      "text/plain": [
       "0"
      ]
     },
     "execution_count": 69,
     "metadata": {},
     "output_type": "execute_result"
    }
   ],
   "source": [
    "type_dictionary['upper']"
   ]
  },
  {
   "cell_type": "code",
   "execution_count": 70,
   "id": "f389ba81",
   "metadata": {
    "id": "f389ba81"
   },
   "outputs": [],
   "source": [
    "def detectTypeOccasion(img):\n",
    "    # initialize the client\n",
    "    CLIENT = InferenceHTTPClient(\n",
    "        api_url=\"https://detect.roboflow.com\",\n",
    "        api_key=os.getenv(\"ROBOFLOW_API_KEY\")\n",
    "    )\n",
    "\n",
    "    # infer on a local image\n",
    "    result = CLIENT.infer(img, model_id=\"occasion-detection/1\")['predicted_classes']\n",
    "    ID = None\n",
    "    \n",
    "    for item in type_list:\n",
    "        if item in result:\n",
    "            ID = type_dictionary[item]\n",
    "            \n",
    "    casual = 1 if 'casual' in result else 0\n",
    "    party = 1 if 'party' in result else 0\n",
    "    formal = 1 if 'formal' in result else 0\n",
    "#     ID = 0\n",
    "\n",
    "    print(result)\n",
    "    return casual, formal, party, ID"
   ]
  },
  {
   "cell_type": "code",
   "execution_count": 71,
   "id": "2d74af65",
   "metadata": {},
   "outputs": [
    {
     "name": "stdout",
     "output_type": "stream",
     "text": [
      "['party', 'shoes']\n"
     ]
    }
   ],
   "source": [
    "file = \"input/original/14546920_4.jpg\"\n",
    "\n",
    "img = Image.open(file)\n",
    "casual, formal, party, ID = detectTypeOccasion(img)"
   ]
  },
  {
   "cell_type": "code",
   "execution_count": 72,
   "id": "151ab471",
   "metadata": {
    "colab": {
     "base_uri": "https://localhost:8080/"
    },
    "id": "151ab471",
    "outputId": "cd8affee-2781-483c-bf4e-c81423d0304c"
   },
   "outputs": [
    {
     "data": {
      "text/plain": [
       "[0, 0, 1, 3]"
      ]
     },
     "execution_count": 72,
     "metadata": {},
     "output_type": "execute_result"
    }
   ],
   "source": [
    "[casual, formal, party, ID]"
   ]
  },
  {
   "cell_type": "markdown",
   "id": "ffc8755a",
   "metadata": {
    "id": "ffc8755a"
   },
   "source": [
    "### Detecting the Color"
   ]
  },
  {
   "cell_type": "code",
   "execution_count": 73,
   "id": "4c3d1d86",
   "metadata": {
    "id": "4c3d1d86"
   },
   "outputs": [],
   "source": [
    "def detectColor(img):\n",
    "    # Load the image\n",
    "    image = cv2.imread(img)\n",
    "\n",
    "    # Convert the image to HSV color space\n",
    "    hsv_image = cv2.cvtColor(image, cv2.COLOR_BGR2HSV)\n",
    "\n",
    "    # Flatten the image into a 2D array of pixels\n",
    "    pixels = hsv_image.reshape((-1, 3))\n",
    "\n",
    "    # Define the number of clusters (colors) you want to detect\n",
    "    num_clusters = 2 # Adjust this based on the number of colors you expect\n",
    "\n",
    "    # Apply K-means clustering\n",
    "    kmeans = KMeans(n_clusters=num_clusters)\n",
    "    kmeans.fit(pixels)\n",
    "\n",
    "    # Get the representative colors (centroids) of each cluster\n",
    "    colors = kmeans.cluster_centers_\n",
    "\n",
    "    # Convert the colors from float to integer\n",
    "    colors = colors.astype(np.uint8)\n",
    "\n",
    "    # Optionally, convert the colors to BGR and display them\n",
    "    # colors_bgr = colors\n",
    "    colors_rgb = cv2.cvtColor(colors.reshape(1, -1, 3), cv2.COLOR_HSV2RGB)\n",
    "    #     colors_bgr = cv2.cvtColor(colors.reshape(1, -1, 3), cv2.COLOR_BGR2LAB)\n",
    "\n",
    "    return colors_rgb[0][0]"
   ]
  },
  {
   "cell_type": "markdown",
   "id": "d202aae7",
   "metadata": {
    "id": "d202aae7"
   },
   "source": [
    "### Filling the Data Frame"
   ]
  },
  {
   "cell_type": "code",
   "execution_count": 74,
   "id": "f87d8e22",
   "metadata": {
    "collapsed": true
   },
   "outputs": [
    {
     "data": {
      "text/plain": [
       "['input/no_background/145298325_1.jpg',\n",
       " 'input/no_background/145336458_2.jpg',\n",
       " 'input/no_background/145364239_3.jpg',\n",
       " 'input/no_background/145364654_3.jpg',\n",
       " 'input/no_background/145398157_9.jpg',\n",
       " 'input/no_background/145447610_8.jpg',\n",
       " 'input/no_background/145447610_9.jpg',\n",
       " 'input/no_background/145459795_3.jpg',\n",
       " 'input/no_background/14546920_4.jpg',\n",
       " 'input/no_background/145476098_2.jpg',\n",
       " 'input/no_background/145496261_5.jpg',\n",
       " 'input/no_background/145505437_2.jpg',\n",
       " 'input/no_background/145513385_9.jpg',\n",
       " 'input/no_background/145527800_3.jpg',\n",
       " 'input/no_background/145549309_9.jpg',\n",
       " 'input/no_background/145562011_3.jpg',\n",
       " 'input/no_background/145568513_3.jpg',\n",
       " 'input/no_background/14558253_3.jpg',\n",
       " 'input/no_background/145585069_4.jpg',\n",
       " 'input/no_background/145586377_3.jpg',\n",
       " 'input/no_background/145588019_3.jpg',\n",
       " 'input/no_background/145646879_4.jpg',\n",
       " 'input/no_background/14566039_23.jpg',\n",
       " 'input/no_background/145667456_3.jpg',\n",
       " 'input/no_background/145670068_3.jpg',\n",
       " 'input/no_background/145699942_2.jpg',\n",
       " 'input/no_background/14570653_3.jpg',\n",
       " 'input/no_background/145719959_2.jpg',\n",
       " 'input/no_background/145727597_9.jpg',\n",
       " 'input/no_background/145787887_3.jpg',\n",
       " 'input/no_background/145804716_1.jpg',\n",
       " 'input/no_background/145807920_1.jpg',\n",
       " 'input/no_background/145811724_6.jpg',\n",
       " 'input/no_background/145813948_3.jpg',\n",
       " 'input/no_background/145823281_2.jpg',\n",
       " 'input/no_background/145848648_3.jpg',\n",
       " 'input/no_background/14585095_3.jpg',\n",
       " 'input/no_background/145884732_2.jpg',\n",
       " 'input/no_background/145903639_2.jpg',\n",
       " 'input/no_background/145945951_3.jpg',\n",
       " 'input/no_background/145994221_14.jpg',\n",
       " 'input/no_background/145994221_7.jpg',\n",
       " 'input/no_background/146000943_5.jpg',\n",
       " 'input/no_background/146027224_3.jpg',\n",
       " 'input/no_background/146035097_3.jpg',\n",
       " 'input/no_background/146035176_2.jpg',\n",
       " 'input/no_background/146041048_2.jpg',\n",
       " 'input/no_background/14606444_5.jpg',\n",
       " 'input/no_background/14606500_6.jpg',\n",
       " 'input/no_background/146080201_1.jpg',\n",
       " 'input/no_background/146122294_3.jpg',\n",
       " 'input/no_background/146140959_3.jpg',\n",
       " 'input/no_background/146152015_2.jpg',\n",
       " 'input/no_background/146213732_3.jpg',\n",
       " 'input/no_background/14623348_4.jpg',\n",
       " 'input/no_background/146243942_5.jpg',\n",
       " 'input/no_background/146247451_1.jpg',\n",
       " 'input/no_background/14626974_3.jpg',\n",
       " 'input/no_background/146288004_4.jpg',\n",
       " 'input/no_background/146309485_3.jpg',\n",
       " 'input/no_background/177525796_1.jpg',\n",
       " 'input/no_background/177533492_1.jpg',\n",
       " 'input/no_background/177533492_2.jpg',\n",
       " 'input/no_background/177536328_1.jpg',\n",
       " 'input/no_background/177537334_1.jpg',\n",
       " 'input/no_background/177537529_2.jpg',\n",
       " 'input/no_background/177538765_1.jpg',\n",
       " 'input/no_background/177551660_1.jpg',\n",
       " 'input/no_background/177553275_1.jpg',\n",
       " 'input/no_background/177576894_1.jpg',\n",
       " 'input/no_background/177623241_1.jpg',\n",
       " 'input/no_background/177644683_1.jpg',\n",
       " 'input/no_background/177645191_2.jpg',\n",
       " 'input/no_background/177666653_1.jpg',\n",
       " 'input/no_background/177686634_1.jpg',\n",
       " 'input/no_background/177686921_1.jpg',\n",
       " 'input/no_background/177723985_2.jpg',\n",
       " 'input/no_background/177750783_1.jpg',\n",
       " 'input/no_background/177771653_1.jpg',\n",
       " 'input/no_background/177807948_1.jpg',\n",
       " 'input/no_background/177838651_1.jpg',\n",
       " 'input/no_background/177854078_2.jpg',\n",
       " 'input/no_background/177866078_1.jpg',\n",
       " 'input/no_background/177866078_2.jpg',\n",
       " 'input/no_background/177867114_1.jpg',\n",
       " 'input/no_background/177888763_2.jpg',\n",
       " 'input/no_background/177896516_1.jpg',\n",
       " 'input/no_background/177911116_1.jpg',\n",
       " 'input/no_background/177966691_1.jpg',\n",
       " 'input/no_background/177971016_1.jpg',\n",
       " 'input/no_background/177976821_1.jpg',\n",
       " 'input/no_background/177978653_1.jpg',\n",
       " 'input/no_background/178032835_2.jpg',\n",
       " 'input/no_background/178044331_1.jpg',\n",
       " 'input/no_background/178058446_1.jpg',\n",
       " 'input/no_background/178060703_1.jpg',\n",
       " 'input/no_background/178069915_1.jpg',\n",
       " 'input/no_background/178081518_1.jpg',\n",
       " 'input/no_background/178096975_1.jpg',\n",
       " 'input/no_background/178096975_20.jpg',\n",
       " 'input/no_background/178118160_1.jpg',\n",
       " 'input/no_background/178131353_1.jpg',\n",
       " 'input/no_background/178155703_2.jpg',\n",
       " 'input/no_background/178168556_1.jpg',\n",
       " 'input/no_background/178174244_1.jpg',\n",
       " 'input/no_background/178194918_2.jpg',\n",
       " 'input/no_background/178199817_1.jpg',\n",
       " 'input/no_background/178199858_1.jpg',\n",
       " 'input/no_background/178220054_1.jpg',\n",
       " 'input/no_background/178229101_2.jpg',\n",
       " 'input/no_background/178259192_1.jpg',\n",
       " 'input/no_background/178410322_2.jpg',\n",
       " 'input/no_background/178436834_1.jpg',\n",
       " 'input/no_background/178446954_1.jpg',\n",
       " 'input/no_background/178465587_1.jpg',\n",
       " 'input/no_background/178470458_1.jpg',\n",
       " 'input/no_background/178475690_1.jpg',\n",
       " 'input/no_background/178475690_2.jpg',\n",
       " 'input/no_background/178476125_1.jpg',\n",
       " 'input/no_background/178476454_1.jpg',\n",
       " 'input/no_background/193042393_2.jpg',\n",
       " 'input/no_background/193051836_2.jpg',\n",
       " 'input/no_background/193058429_3.jpg',\n",
       " 'input/no_background/193064575_3.jpg',\n",
       " 'input/no_background/193066323_2.jpg',\n",
       " 'input/no_background/193091266_3.jpg',\n",
       " 'input/no_background/193112748_2.jpg',\n",
       " 'input/no_background/193115083_2.jpg',\n",
       " 'input/no_background/193120939_3.jpg',\n",
       " 'input/no_background/193136504_4.jpg',\n",
       " 'input/no_background/193151387_2.jpg',\n",
       " 'input/no_background/193156718_2.jpg',\n",
       " 'input/no_background/193181088_1.jpg',\n",
       " 'input/no_background/193186861_3.jpg',\n",
       " 'input/no_background/193190247_2.jpg',\n",
       " 'input/no_background/193207288_2.jpg',\n",
       " 'input/no_background/193210065_2.jpg',\n",
       " 'input/no_background/193211187_2.jpg',\n",
       " 'input/no_background/193213668_3.jpg',\n",
       " 'input/no_background/193213997_3.jpg',\n",
       " 'input/no_background/193215645_1.jpg',\n",
       " 'input/no_background/193245413_3.jpg',\n",
       " 'input/no_background/193251699_2.jpg',\n",
       " 'input/no_background/193272732_7.jpg',\n",
       " 'input/no_background/193283422_3.jpg',\n",
       " 'input/no_background/193288386_3.jpg',\n",
       " 'input/no_background/193290825_3.jpg',\n",
       " 'input/no_background/193298222_3.jpg',\n",
       " 'input/no_background/193309875_3.jpg',\n",
       " 'input/no_background/193320238_3.jpg',\n",
       " 'input/no_background/193371249_3.jpg',\n",
       " 'input/no_background/193389364_2.jpg',\n",
       " 'input/no_background/193393992_2.jpg',\n",
       " 'input/no_background/193399471_2.jpg',\n",
       " 'input/no_background/193399509_3.jpg',\n",
       " 'input/no_background/193405026_3.jpg',\n",
       " 'input/no_background/193408203_2.jpg',\n",
       " 'input/no_background/193411396_3.jpg',\n",
       " 'input/no_background/193426884_3.jpg',\n",
       " 'input/no_background/193433005_3.jpg',\n",
       " 'input/no_background/193440081_3.jpg',\n",
       " 'input/no_background/193460223_3.jpg',\n",
       " 'input/no_background/193493468_3.jpg',\n",
       " 'input/no_background/193497458_3.jpg',\n",
       " 'input/no_background/193511799_3.jpg',\n",
       " 'input/no_background/193549441_3.jpg',\n",
       " 'input/no_background/193567865_3.jpg',\n",
       " 'input/no_background/193569448_2.jpg',\n",
       " 'input/no_background/193572994_2.jpg',\n",
       " 'input/no_background/193591002_3.jpg',\n",
       " 'input/no_background/193591064_3.jpg',\n",
       " 'input/no_background/193599074_2.jpg',\n",
       " 'input/no_background/193610425_3.jpg',\n",
       " 'input/no_background/193621987_2.jpg',\n",
       " 'input/no_background/193628478_2.jpg',\n",
       " 'input/no_background/193634829_10.jpg',\n",
       " 'input/no_background/193637426_2.jpg',\n",
       " 'input/no_background/193639690_2.jpg',\n",
       " 'input/no_background/193640388_2.jpg',\n",
       " 'input/no_background/193641749_2.jpg',\n",
       " 'input/no_background/207363284_2.jpg',\n",
       " 'input/no_background/207368009_3.jpg',\n",
       " 'input/no_background/207369823_2.jpg',\n",
       " 'input/no_background/207390236_2.jpg',\n",
       " 'input/no_background/207391834_2.jpg',\n",
       " 'input/no_background/207395450_2.jpg',\n",
       " 'input/no_background/207398245_2.jpg',\n",
       " 'input/no_background/207405059_8.jpg',\n",
       " 'input/no_background/207428917_2.jpg',\n",
       " 'input/no_background/207434818_1.jpg',\n",
       " 'input/no_background/207435676_2.jpg',\n",
       " 'input/no_background/207437595_1.jpg',\n",
       " 'input/no_background/207437634_2.jpg',\n",
       " 'input/no_background/207439281_2.jpg',\n",
       " 'input/no_background/207440656_1.jpg',\n",
       " 'input/no_background/207440675_3.jpg',\n",
       " 'input/no_background/207441559_2.jpg',\n",
       " 'input/no_background/207443899_2.jpg',\n",
       " 'input/no_background/207444216_2.jpg',\n",
       " 'input/no_background/207446259_2.jpg',\n",
       " 'input/no_background/207449133_2.jpg',\n",
       " 'input/no_background/207457943_2.jpg',\n",
       " 'input/no_background/207458099_1.jpg',\n",
       " 'input/no_background/207459796_2.jpg',\n",
       " 'input/no_background/207459796_3.jpg',\n",
       " 'input/no_background/207460039_2.jpg',\n",
       " 'input/no_background/207460563_2.jpg',\n",
       " 'input/no_background/207462752_2.jpg',\n",
       " 'input/no_background/207463779_2.jpg',\n",
       " 'input/no_background/207469011_1.jpg',\n",
       " 'input/no_background/207472252_1.jpg',\n",
       " 'input/no_background/207474886_3.jpg',\n",
       " 'input/no_background/207477136_2.jpg',\n",
       " 'input/no_background/207479671_2.jpg',\n",
       " 'input/no_background/207480535_2.jpg',\n",
       " 'input/no_background/207482071_1.jpg',\n",
       " 'input/no_background/207483333_1.jpg',\n",
       " 'input/no_background/207495809_1.jpg',\n",
       " 'input/no_background/207500591_2.jpg',\n",
       " 'input/no_background/207503552_2.jpg',\n",
       " 'input/no_background/207506018_2.jpg',\n",
       " 'input/no_background/207507637_2.jpg',\n",
       " 'input/no_background/207508599_2.jpg',\n",
       " 'input/no_background/207508804_2.jpg',\n",
       " 'input/no_background/207508993_2.jpg',\n",
       " 'input/no_background/207513401_2.jpg',\n",
       " 'input/no_background/207513564_2.jpg',\n",
       " 'input/no_background/207530783_2.jpg',\n",
       " 'input/no_background/207543127_2.jpg',\n",
       " 'input/no_background/207550853_2.jpg',\n",
       " 'input/no_background/207554383_2.jpg',\n",
       " 'input/no_background/207554535_1.jpg',\n",
       " 'input/no_background/207559852_2.jpg',\n",
       " 'input/no_background/207571521_2.jpg',\n",
       " 'input/no_background/207577310_2.jpg',\n",
       " 'input/no_background/207586100_2.jpg',\n",
       " 'input/no_background/207594639_3.jpg',\n",
       " 'input/no_background/207596465_2.jpg',\n",
       " 'input/no_background/207600167_2.jpg',\n",
       " 'input/no_background/207602996_2.jpg',\n",
       " 'input/no_background/96411715_1.jpg']"
      ]
     },
     "execution_count": 74,
     "metadata": {},
     "output_type": "execute_result"
    }
   ],
   "source": [
    "folder_path = \"input/no_background\"\n",
    "filenames = []\n",
    "for filename in os.listdir(folder_path):\n",
    "# Check if it's a file (not a directory)\n",
    "    if os.path.isfile(os.path.join(folder_path, filename)):\n",
    "        filenames.append(folder_path + '/' + filename)\n",
    "# filenames.remove('integrationTest/input/desktop.ini')\n",
    "\n",
    "filenames"
   ]
  },
  {
   "cell_type": "code",
   "execution_count": 75,
   "id": "8428e300",
   "metadata": {
    "colab": {
     "base_uri": "https://localhost:8080/",
     "height": 1000
    },
    "collapsed": true,
    "id": "8428e300",
    "outputId": "51318145-a753-4311-a2c0-f80da617ab9e"
   },
   "outputs": [
    {
     "name": "stdout",
     "output_type": "stream",
     "text": [
      "['party', 'shoes']\n",
      "['party', 'shoes']\n",
      "['casual', 'shoes']\n",
      "['casual', 'party', 'shoes']\n",
      "['party', 'shoes']\n",
      "['party', 'shoes']\n",
      "['party', 'shoes']\n",
      "['casual', 'party', 'shoes']\n",
      "['party', 'shoes']\n",
      "['party', 'shoes']\n",
      "['party', 'shoes']\n",
      "['party', 'shoes']\n",
      "['casual', 'party', 'shoes']\n",
      "['casual', 'shoes']\n",
      "['casual', 'party', 'shoes']\n",
      "['casual', 'shoes']\n",
      "['casual', 'shoes']\n",
      "['party', 'shoes']\n",
      "['casual', 'party', 'shoes']\n",
      "['party', 'shoes']\n",
      "['party', 'shoes']\n",
      "['party', 'shoes']\n",
      "['casual', 'party', 'shoes']\n",
      "['party', 'shoes']\n",
      "['party', 'shoes']\n",
      "['party', 'shoes']\n",
      "['party', 'shoes']\n",
      "['party', 'shoes']\n",
      "['casual', 'shoes']\n",
      "['casual', 'party', 'shoes']\n",
      "['party', 'shoes']\n",
      "['party', 'shoes']\n",
      "['casual', 'party', 'shoes']\n",
      "['casual', 'party', 'shoes']\n",
      "['party', 'shoes']\n",
      "['party', 'shoes']\n",
      "['party', 'shoes']\n",
      "['party', 'shoes']\n",
      "['party', 'shoes']\n",
      "['casual', 'shoes']\n",
      "['party', 'shoes']\n",
      "['party', 'shoes']\n",
      "['casual', 'shoes']\n",
      "['casual', 'shoes']\n",
      "['casual', 'shoes']\n",
      "['party', 'shoes']\n",
      "['party', 'shoes']\n",
      "['party', 'shoes']\n",
      "['party', 'shoes']\n",
      "['party', 'shoes']\n",
      "['party', 'shoes']\n",
      "['party', 'shoes']\n",
      "['casual', 'shoes']\n",
      "['casual', 'shoes']\n",
      "['casual', 'party', 'shoes']\n",
      "['party', 'shoes']\n",
      "['casual', 'party', 'shoes']\n",
      "['casual', 'party', 'shoes']\n",
      "['casual', 'party', 'shoes']\n",
      "['casual', 'shoes']\n",
      "['casual', 'upper']\n",
      "['casual', 'over', 'upper']\n",
      "['casual', 'upper']\n",
      "['formal', 'over', 'party']\n",
      "['casual', 'upper']\n",
      "['casual', 'upper']\n",
      "['party', 'upper']\n",
      "['casual', 'upper']\n",
      "['casual', 'party', 'upper']\n",
      "['casual', 'upper']\n",
      "['casual', 'upper']\n",
      "['casual', 'upper']\n",
      "['casual', 'upper']\n",
      "['casual', 'upper']\n",
      "['casual', 'over', 'party']\n",
      "['casual', 'upper']\n",
      "['casual', 'upper']\n",
      "['party', 'upper']\n",
      "['party']\n",
      "['casual', 'party', 'upper']\n",
      "['party', 'upper']\n",
      "['casual', 'upper']\n",
      "['casual', 'over', 'party']\n",
      "['casual', 'upper']\n",
      "['casual', 'upper']\n",
      "['casual', 'upper']\n",
      "['casual', 'upper']\n",
      "['casual', 'over']\n",
      "['casual', 'formal', 'over']\n",
      "['casual', 'upper']\n",
      "['casual', 'upper']\n",
      "['casual', 'over', 'upper']\n",
      "['casual', 'upper']\n",
      "['casual', 'upper']\n",
      "['party', 'upper']\n",
      "['party', 'upper']\n",
      "['casual', 'upper']\n",
      "['casual', 'party', 'shoes']\n",
      "['party', 'upper']\n",
      "['casual', 'party', 'upper']\n",
      "['casual', 'formal', 'over']\n",
      "['party', 'upper']\n",
      "['casual', 'party', 'upper']\n",
      "['party']\n",
      "['party', 'upper']\n",
      "['lower', 'party']\n",
      "['casual', 'upper']\n",
      "['casual', 'over', 'party', 'upper']\n",
      "['casual', 'upper']\n",
      "['casual', 'lower']\n",
      "['casual', 'upper']\n",
      "['formal', 'over', 'party']\n",
      "['casual', 'upper']\n",
      "['casual', 'upper']\n",
      "['casual', 'over']\n",
      "['casual', 'upper']\n",
      "['casual', 'upper']\n",
      "['formal', 'over', 'party']\n",
      "['casual', 'party', 'upper']\n",
      "['casual', 'upper']\n",
      "['casual', 'lower']\n",
      "['casual', 'lower']\n",
      "['casual', 'lower']\n",
      "['casual', 'lower']\n",
      "['casual', 'lower']\n",
      "['casual', 'lower']\n",
      "['casual', 'lower']\n",
      "['lower', 'party']\n",
      "['casual', 'lower']\n",
      "['casual', 'lower', 'party']\n",
      "['casual', 'lower', 'party']\n",
      "['casual', 'lower']\n",
      "['casual', 'lower']\n",
      "['casual', 'lower', 'party']\n",
      "['casual', 'lower', 'party']\n",
      "['casual', 'lower', 'party']\n",
      "['casual', 'lower', 'party']\n",
      "['lower', 'party']\n",
      "['casual', 'lower', 'party']\n",
      "['casual', 'lower', 'party']\n",
      "['casual', 'lower']\n",
      "['casual', 'lower']\n",
      "['casual', 'lower']\n",
      "['casual', 'lower']\n",
      "['casual', 'lower']\n",
      "['casual', 'lower', 'party']\n",
      "['casual', 'lower']\n",
      "['party']\n",
      "['casual', 'lower', 'party']\n",
      "['casual', 'lower', 'party']\n",
      "['casual', 'lower']\n",
      "['casual', 'lower', 'party']\n",
      "['casual', 'lower']\n",
      "['casual', 'lower']\n",
      "['casual', 'lower']\n",
      "['casual', 'lower']\n",
      "['casual', 'lower']\n",
      "['lower', 'party']\n",
      "['casual', 'lower']\n",
      "['casual', 'lower']\n",
      "['casual', 'lower', 'party']\n",
      "['casual', 'lower']\n",
      "['lower', 'party']\n",
      "['casual', 'lower']\n",
      "['lower', 'party']\n",
      "['casual', 'lower']\n",
      "['casual', 'lower']\n",
      "['casual', 'lower']\n",
      "['lower', 'party']\n",
      "['casual', 'lower', 'party']\n",
      "['casual', 'lower']\n",
      "['casual', 'lower']\n",
      "['casual', 'lower', 'party']\n",
      "['casual', 'lower']\n",
      "['casual', 'lower']\n",
      "['lower', 'party']\n",
      "['casual', 'lower']\n",
      "['casual', 'lower']\n",
      "['casual', 'lower']\n",
      "['casual', 'lower']\n",
      "['over', 'party']\n",
      "['casual', 'over', 'party']\n",
      "['casual', 'over']\n",
      "['casual', 'over', 'party']\n",
      "['casual', 'formal', 'over', 'party']\n",
      "['formal', 'over', 'party']\n",
      "['casual', 'over']\n",
      "['casual', 'over']\n",
      "['casual', 'over', 'upper']\n",
      "['casual', 'over']\n",
      "['casual', 'over', 'party']\n",
      "['over', 'party']\n",
      "['casual', 'over', 'party']\n",
      "['casual', 'over']\n",
      "['casual', 'formal', 'over']\n",
      "['casual', 'over']\n",
      "['casual', 'over']\n",
      "['casual', 'over', 'party']\n",
      "['formal', 'over', 'party']\n",
      "['formal', 'over', 'party']\n",
      "['formal', 'over', 'party']\n",
      "['casual', 'over']\n",
      "['formal', 'over', 'party']\n",
      "['casual', 'over']\n",
      "['casual', 'over']\n",
      "['casual', 'over']\n",
      "['casual', 'over']\n",
      "['casual', 'party']\n",
      "['casual', 'over']\n",
      "['casual', 'over']\n",
      "['casual', 'over', 'party']\n",
      "['casual', 'over']\n",
      "['casual', 'over', 'party']\n",
      "['casual', 'over']\n",
      "['casual', 'over']\n",
      "['casual', 'over']\n",
      "['casual', 'over', 'party']\n",
      "['casual', 'over']\n",
      "['formal', 'over', 'party']\n",
      "['formal', 'over', 'party']\n",
      "['casual', 'over', 'party']\n",
      "['casual', 'formal', 'over', 'party']\n",
      "['casual', 'over']\n",
      "['formal', 'over', 'party']\n",
      "['casual', 'over']\n",
      "['casual', 'over', 'party']\n",
      "['casual', 'over']\n",
      "['casual', 'over']\n",
      "['formal', 'over', 'party']\n",
      "['casual', 'formal', 'over', 'party']\n",
      "['formal', 'over', 'party']\n",
      "['casual', 'party', 'upper']\n",
      "['party', 'upper']\n",
      "['casual', 'over', 'party']\n",
      "['casual', 'upper']\n",
      "['formal', 'over', 'party']\n",
      "['casual', 'over']\n",
      "['casual', 'over']\n",
      "['casual', 'formal', 'over', 'party']\n",
      "['casual', 'formal', 'over', 'party']\n",
      "['party', 'upper']\n"
     ]
    },
    {
     "data": {
      "text/html": [
       "<div>\n",
       "<style scoped>\n",
       "    .dataframe tbody tr th:only-of-type {\n",
       "        vertical-align: middle;\n",
       "    }\n",
       "\n",
       "    .dataframe tbody tr th {\n",
       "        vertical-align: top;\n",
       "    }\n",
       "\n",
       "    .dataframe thead th {\n",
       "        text-align: right;\n",
       "    }\n",
       "</style>\n",
       "<table border=\"1\" class=\"dataframe\">\n",
       "  <thead>\n",
       "    <tr style=\"text-align: right;\">\n",
       "      <th></th>\n",
       "      <th>FileName</th>\n",
       "      <th>ID</th>\n",
       "      <th>HSV</th>\n",
       "      <th>Casual</th>\n",
       "      <th>Formal</th>\n",
       "      <th>Party</th>\n",
       "    </tr>\n",
       "  </thead>\n",
       "  <tbody>\n",
       "    <tr>\n",
       "      <th>0</th>\n",
       "      <td>input/no_background/145298325_1.jpg</td>\n",
       "      <td>3</td>\n",
       "      <td>[252, 251, 251]</td>\n",
       "      <td>0</td>\n",
       "      <td>0</td>\n",
       "      <td>1</td>\n",
       "    </tr>\n",
       "    <tr>\n",
       "      <th>1</th>\n",
       "      <td>input/no_background/145336458_2.jpg</td>\n",
       "      <td>3</td>\n",
       "      <td>[243, 236, 235]</td>\n",
       "      <td>0</td>\n",
       "      <td>0</td>\n",
       "      <td>1</td>\n",
       "    </tr>\n",
       "    <tr>\n",
       "      <th>2</th>\n",
       "      <td>input/no_background/145364239_3.jpg</td>\n",
       "      <td>3</td>\n",
       "      <td>[250, 250, 250]</td>\n",
       "      <td>1</td>\n",
       "      <td>0</td>\n",
       "      <td>0</td>\n",
       "    </tr>\n",
       "    <tr>\n",
       "      <th>3</th>\n",
       "      <td>input/no_background/145364654_3.jpg</td>\n",
       "      <td>3</td>\n",
       "      <td>[16, 20, 15]</td>\n",
       "      <td>1</td>\n",
       "      <td>0</td>\n",
       "      <td>1</td>\n",
       "    </tr>\n",
       "    <tr>\n",
       "      <th>4</th>\n",
       "      <td>input/no_background/145398157_9.jpg</td>\n",
       "      <td>3</td>\n",
       "      <td>[40, 47, 46]</td>\n",
       "      <td>0</td>\n",
       "      <td>0</td>\n",
       "      <td>1</td>\n",
       "    </tr>\n",
       "    <tr>\n",
       "      <th>...</th>\n",
       "      <td>...</td>\n",
       "      <td>...</td>\n",
       "      <td>...</td>\n",
       "      <td>...</td>\n",
       "      <td>...</td>\n",
       "      <td>...</td>\n",
       "    </tr>\n",
       "    <tr>\n",
       "      <th>236</th>\n",
       "      <td>input/no_background/207594639_3.jpg</td>\n",
       "      <td>2</td>\n",
       "      <td>[119, 138, 162]</td>\n",
       "      <td>1</td>\n",
       "      <td>0</td>\n",
       "      <td>0</td>\n",
       "    </tr>\n",
       "    <tr>\n",
       "      <th>237</th>\n",
       "      <td>input/no_background/207596465_2.jpg</td>\n",
       "      <td>2</td>\n",
       "      <td>[33, 34, 36]</td>\n",
       "      <td>1</td>\n",
       "      <td>0</td>\n",
       "      <td>0</td>\n",
       "    </tr>\n",
       "    <tr>\n",
       "      <th>238</th>\n",
       "      <td>input/no_background/207600167_2.jpg</td>\n",
       "      <td>2</td>\n",
       "      <td>[215, 172, 164]</td>\n",
       "      <td>1</td>\n",
       "      <td>1</td>\n",
       "      <td>1</td>\n",
       "    </tr>\n",
       "    <tr>\n",
       "      <th>239</th>\n",
       "      <td>input/no_background/207602996_2.jpg</td>\n",
       "      <td>2</td>\n",
       "      <td>[23, 24, 27]</td>\n",
       "      <td>1</td>\n",
       "      <td>1</td>\n",
       "      <td>1</td>\n",
       "    </tr>\n",
       "    <tr>\n",
       "      <th>240</th>\n",
       "      <td>input/no_background/96411715_1.jpg</td>\n",
       "      <td>0</td>\n",
       "      <td>[183, 145, 126]</td>\n",
       "      <td>0</td>\n",
       "      <td>0</td>\n",
       "      <td>1</td>\n",
       "    </tr>\n",
       "  </tbody>\n",
       "</table>\n",
       "<p>241 rows × 6 columns</p>\n",
       "</div>"
      ],
      "text/plain": [
       "                                FileName ID              HSV Casual Formal  \\\n",
       "0    input/no_background/145298325_1.jpg  3  [252, 251, 251]      0      0   \n",
       "1    input/no_background/145336458_2.jpg  3  [243, 236, 235]      0      0   \n",
       "2    input/no_background/145364239_3.jpg  3  [250, 250, 250]      1      0   \n",
       "3    input/no_background/145364654_3.jpg  3     [16, 20, 15]      1      0   \n",
       "4    input/no_background/145398157_9.jpg  3     [40, 47, 46]      0      0   \n",
       "..                                   ... ..              ...    ...    ...   \n",
       "236  input/no_background/207594639_3.jpg  2  [119, 138, 162]      1      0   \n",
       "237  input/no_background/207596465_2.jpg  2     [33, 34, 36]      1      0   \n",
       "238  input/no_background/207600167_2.jpg  2  [215, 172, 164]      1      1   \n",
       "239  input/no_background/207602996_2.jpg  2     [23, 24, 27]      1      1   \n",
       "240   input/no_background/96411715_1.jpg  0  [183, 145, 126]      0      0   \n",
       "\n",
       "    Party  \n",
       "0       1  \n",
       "1       1  \n",
       "2       0  \n",
       "3       1  \n",
       "4       1  \n",
       "..    ...  \n",
       "236     0  \n",
       "237     0  \n",
       "238     1  \n",
       "239     1  \n",
       "240     1  \n",
       "\n",
       "[241 rows x 6 columns]"
      ]
     },
     "execution_count": 75,
     "metadata": {},
     "output_type": "execute_result"
    }
   ],
   "source": [
    "column_names = ['FileName', 'ID', 'HSV', 'Casual', 'Formal', 'Party']\n",
    "\n",
    "df = pd.DataFrame(columns=column_names)\n",
    "\n",
    "for files in filenames:\n",
    "    # detectColor('integrationTest/input/121986373_3.jpg')\n",
    "    color = detectColor(files)\n",
    "    casual, formal, party, ID = detectTypeOccasion(files)\n",
    "\n",
    "    row = {\n",
    "        'FileName': files,\n",
    "        'ID' : ID,\n",
    "        'HSV' : color,\n",
    "        'Casual' : casual,\n",
    "        'Formal' : formal,\n",
    "        'Party' : party\n",
    "    }\n",
    "\n",
    "#     df = df.append(new_row, ignore_index=True)\n",
    "    df = pd.concat([df, pd.DataFrame([row])], ignore_index=True)\n",
    "\n",
    "df"
   ]
  },
  {
   "cell_type": "code",
   "execution_count": 76,
   "id": "083efadb",
   "metadata": {
    "colab": {
     "base_uri": "https://localhost:8080/",
     "height": 519
    },
    "id": "083efadb",
    "outputId": "03984a16-9666-42c7-a6c3-addff60a50ab"
   },
   "outputs": [
    {
     "data": {
      "text/html": [
       "<div>\n",
       "<style scoped>\n",
       "    .dataframe tbody tr th:only-of-type {\n",
       "        vertical-align: middle;\n",
       "    }\n",
       "\n",
       "    .dataframe tbody tr th {\n",
       "        vertical-align: top;\n",
       "    }\n",
       "\n",
       "    .dataframe thead th {\n",
       "        text-align: right;\n",
       "    }\n",
       "</style>\n",
       "<table border=\"1\" class=\"dataframe\">\n",
       "  <thead>\n",
       "    <tr style=\"text-align: right;\">\n",
       "      <th></th>\n",
       "      <th>FileName</th>\n",
       "      <th>ID</th>\n",
       "      <th>HSV</th>\n",
       "      <th>Casual</th>\n",
       "      <th>Formal</th>\n",
       "      <th>Party</th>\n",
       "    </tr>\n",
       "  </thead>\n",
       "  <tbody>\n",
       "    <tr>\n",
       "      <th>0</th>\n",
       "      <td>input/no_background/145298325_1.jpg</td>\n",
       "      <td>3</td>\n",
       "      <td>(0, 0.0, 0.99)</td>\n",
       "      <td>0</td>\n",
       "      <td>0</td>\n",
       "      <td>1</td>\n",
       "    </tr>\n",
       "    <tr>\n",
       "      <th>1</th>\n",
       "      <td>input/no_background/145336458_2.jpg</td>\n",
       "      <td>3</td>\n",
       "      <td>(8, 0.03, 0.95)</td>\n",
       "      <td>0</td>\n",
       "      <td>0</td>\n",
       "      <td>1</td>\n",
       "    </tr>\n",
       "    <tr>\n",
       "      <th>2</th>\n",
       "      <td>input/no_background/145364239_3.jpg</td>\n",
       "      <td>3</td>\n",
       "      <td>(0, 0.0, 0.98)</td>\n",
       "      <td>1</td>\n",
       "      <td>0</td>\n",
       "      <td>0</td>\n",
       "    </tr>\n",
       "    <tr>\n",
       "      <th>3</th>\n",
       "      <td>input/no_background/145364654_3.jpg</td>\n",
       "      <td>3</td>\n",
       "      <td>(108, 0.25, 0.08)</td>\n",
       "      <td>1</td>\n",
       "      <td>0</td>\n",
       "      <td>1</td>\n",
       "    </tr>\n",
       "    <tr>\n",
       "      <th>4</th>\n",
       "      <td>input/no_background/145398157_9.jpg</td>\n",
       "      <td>3</td>\n",
       "      <td>(171, 0.15, 0.18)</td>\n",
       "      <td>0</td>\n",
       "      <td>0</td>\n",
       "      <td>1</td>\n",
       "    </tr>\n",
       "    <tr>\n",
       "      <th>...</th>\n",
       "      <td>...</td>\n",
       "      <td>...</td>\n",
       "      <td>...</td>\n",
       "      <td>...</td>\n",
       "      <td>...</td>\n",
       "      <td>...</td>\n",
       "    </tr>\n",
       "    <tr>\n",
       "      <th>236</th>\n",
       "      <td>input/no_background/207594639_3.jpg</td>\n",
       "      <td>2</td>\n",
       "      <td>(213, 0.27, 0.64)</td>\n",
       "      <td>1</td>\n",
       "      <td>0</td>\n",
       "      <td>0</td>\n",
       "    </tr>\n",
       "    <tr>\n",
       "      <th>237</th>\n",
       "      <td>input/no_background/207596465_2.jpg</td>\n",
       "      <td>2</td>\n",
       "      <td>(220, 0.08, 0.14)</td>\n",
       "      <td>1</td>\n",
       "      <td>0</td>\n",
       "      <td>0</td>\n",
       "    </tr>\n",
       "    <tr>\n",
       "      <th>238</th>\n",
       "      <td>input/no_background/207600167_2.jpg</td>\n",
       "      <td>2</td>\n",
       "      <td>(9, 0.24, 0.84)</td>\n",
       "      <td>1</td>\n",
       "      <td>1</td>\n",
       "      <td>1</td>\n",
       "    </tr>\n",
       "    <tr>\n",
       "      <th>239</th>\n",
       "      <td>input/no_background/207602996_2.jpg</td>\n",
       "      <td>2</td>\n",
       "      <td>(225, 0.15, 0.11)</td>\n",
       "      <td>1</td>\n",
       "      <td>1</td>\n",
       "      <td>1</td>\n",
       "    </tr>\n",
       "    <tr>\n",
       "      <th>240</th>\n",
       "      <td>input/no_background/96411715_1.jpg</td>\n",
       "      <td>0</td>\n",
       "      <td>(20, 0.31, 0.72)</td>\n",
       "      <td>0</td>\n",
       "      <td>0</td>\n",
       "      <td>1</td>\n",
       "    </tr>\n",
       "  </tbody>\n",
       "</table>\n",
       "<p>241 rows × 6 columns</p>\n",
       "</div>"
      ],
      "text/plain": [
       "                                FileName ID                HSV Casual Formal  \\\n",
       "0    input/no_background/145298325_1.jpg  3     (0, 0.0, 0.99)      0      0   \n",
       "1    input/no_background/145336458_2.jpg  3    (8, 0.03, 0.95)      0      0   \n",
       "2    input/no_background/145364239_3.jpg  3     (0, 0.0, 0.98)      1      0   \n",
       "3    input/no_background/145364654_3.jpg  3  (108, 0.25, 0.08)      1      0   \n",
       "4    input/no_background/145398157_9.jpg  3  (171, 0.15, 0.18)      0      0   \n",
       "..                                   ... ..                ...    ...    ...   \n",
       "236  input/no_background/207594639_3.jpg  2  (213, 0.27, 0.64)      1      0   \n",
       "237  input/no_background/207596465_2.jpg  2  (220, 0.08, 0.14)      1      0   \n",
       "238  input/no_background/207600167_2.jpg  2    (9, 0.24, 0.84)      1      1   \n",
       "239  input/no_background/207602996_2.jpg  2  (225, 0.15, 0.11)      1      1   \n",
       "240   input/no_background/96411715_1.jpg  0   (20, 0.31, 0.72)      0      0   \n",
       "\n",
       "    Party  \n",
       "0       1  \n",
       "1       1  \n",
       "2       0  \n",
       "3       1  \n",
       "4       1  \n",
       "..    ...  \n",
       "236     0  \n",
       "237     0  \n",
       "238     1  \n",
       "239     1  \n",
       "240     1  \n",
       "\n",
       "[241 rows x 6 columns]"
      ]
     },
     "execution_count": 76,
     "metadata": {},
     "output_type": "execute_result"
    }
   ],
   "source": [
    "# #converting RGB to HSV\n",
    "def rgb_to_hsv(r, g, b,precision=2):\n",
    "    r, g, b = r / 255.0, g / 255.0, b / 255.0\n",
    "    max_rgb = max(r, g, b)\n",
    "    min_rgb = min(r, g, b)\n",
    "    delta = max_rgb - min_rgb\n",
    "\n",
    "    if delta == 0:\n",
    "        h = 0\n",
    "    elif max_rgb == r:\n",
    "        h = (60 * ((g - b) / delta) + 360) % 360\n",
    "    elif max_rgb == g:\n",
    "        h = (60 * ((b - r) / delta) + 120) % 360\n",
    "    else:\n",
    "        h = (60 * ((r - g) / delta) + 240) % 360\n",
    "\n",
    "    if max_rgb == 0:\n",
    "        s = 0\n",
    "    else:\n",
    "        s = delta / max_rgb\n",
    "\n",
    "    v = max_rgb\n",
    "\n",
    "    return round(h), round(s, precision), round(v, precision)\n",
    "\n",
    "df['HSV'] = df['HSV'].apply(lambda x: rgb_to_hsv(*x))\n",
    "df"
   ]
  },
  {
   "cell_type": "markdown",
   "id": "77fjXbkzC_PG",
   "metadata": {
    "id": "77fjXbkzC_PG"
   },
   "source": [
    "## Function for a sufficient amount of items for a specific occasion"
   ]
  },
  {
   "cell_type": "code",
   "execution_count": 77,
   "id": "KeLg0WAcIenn",
   "metadata": {
    "colab": {
     "base_uri": "https://localhost:8080/",
     "height": 331
    },
    "collapsed": true,
    "id": "KeLg0WAcIenn",
    "outputId": "c98a0824-6fa9-41ba-b026-5d6a9d9e216a"
   },
   "outputs": [
    {
     "data": {
      "text/html": [
       "<div>\n",
       "<style scoped>\n",
       "    .dataframe tbody tr th:only-of-type {\n",
       "        vertical-align: middle;\n",
       "    }\n",
       "\n",
       "    .dataframe tbody tr th {\n",
       "        vertical-align: top;\n",
       "    }\n",
       "\n",
       "    .dataframe thead th {\n",
       "        text-align: right;\n",
       "    }\n",
       "</style>\n",
       "<table border=\"1\" class=\"dataframe\">\n",
       "  <thead>\n",
       "    <tr style=\"text-align: right;\">\n",
       "      <th></th>\n",
       "      <th>FileName</th>\n",
       "      <th>ID</th>\n",
       "      <th>HSV</th>\n",
       "      <th>Casual</th>\n",
       "      <th>Formal</th>\n",
       "      <th>Party</th>\n",
       "    </tr>\n",
       "  </thead>\n",
       "  <tbody>\n",
       "    <tr>\n",
       "      <th>0</th>\n",
       "      <td>input/no_background/145298325_1.jpg</td>\n",
       "      <td>3</td>\n",
       "      <td>(0, 0.0, 0.99)</td>\n",
       "      <td>0</td>\n",
       "      <td>0</td>\n",
       "      <td>1</td>\n",
       "    </tr>\n",
       "    <tr>\n",
       "      <th>1</th>\n",
       "      <td>input/no_background/145336458_2.jpg</td>\n",
       "      <td>3</td>\n",
       "      <td>(8, 0.03, 0.95)</td>\n",
       "      <td>0</td>\n",
       "      <td>0</td>\n",
       "      <td>1</td>\n",
       "    </tr>\n",
       "    <tr>\n",
       "      <th>3</th>\n",
       "      <td>input/no_background/145364654_3.jpg</td>\n",
       "      <td>3</td>\n",
       "      <td>(108, 0.25, 0.08)</td>\n",
       "      <td>1</td>\n",
       "      <td>0</td>\n",
       "      <td>1</td>\n",
       "    </tr>\n",
       "    <tr>\n",
       "      <th>4</th>\n",
       "      <td>input/no_background/145398157_9.jpg</td>\n",
       "      <td>3</td>\n",
       "      <td>(171, 0.15, 0.18)</td>\n",
       "      <td>0</td>\n",
       "      <td>0</td>\n",
       "      <td>1</td>\n",
       "    </tr>\n",
       "    <tr>\n",
       "      <th>5</th>\n",
       "      <td>input/no_background/145447610_8.jpg</td>\n",
       "      <td>3</td>\n",
       "      <td>(18, 0.08, 0.99)</td>\n",
       "      <td>0</td>\n",
       "      <td>0</td>\n",
       "      <td>1</td>\n",
       "    </tr>\n",
       "    <tr>\n",
       "      <th>...</th>\n",
       "      <td>...</td>\n",
       "      <td>...</td>\n",
       "      <td>...</td>\n",
       "      <td>...</td>\n",
       "      <td>...</td>\n",
       "      <td>...</td>\n",
       "    </tr>\n",
       "    <tr>\n",
       "      <th>233</th>\n",
       "      <td>input/no_background/207571521_2.jpg</td>\n",
       "      <td>2</td>\n",
       "      <td>(16, 0.16, 0.85)</td>\n",
       "      <td>1</td>\n",
       "      <td>0</td>\n",
       "      <td>1</td>\n",
       "    </tr>\n",
       "    <tr>\n",
       "      <th>235</th>\n",
       "      <td>input/no_background/207586100_2.jpg</td>\n",
       "      <td>2</td>\n",
       "      <td>(335, 0.15, 0.86)</td>\n",
       "      <td>0</td>\n",
       "      <td>1</td>\n",
       "      <td>1</td>\n",
       "    </tr>\n",
       "    <tr>\n",
       "      <th>238</th>\n",
       "      <td>input/no_background/207600167_2.jpg</td>\n",
       "      <td>2</td>\n",
       "      <td>(9, 0.24, 0.84)</td>\n",
       "      <td>1</td>\n",
       "      <td>1</td>\n",
       "      <td>1</td>\n",
       "    </tr>\n",
       "    <tr>\n",
       "      <th>239</th>\n",
       "      <td>input/no_background/207602996_2.jpg</td>\n",
       "      <td>2</td>\n",
       "      <td>(225, 0.15, 0.11)</td>\n",
       "      <td>1</td>\n",
       "      <td>1</td>\n",
       "      <td>1</td>\n",
       "    </tr>\n",
       "    <tr>\n",
       "      <th>240</th>\n",
       "      <td>input/no_background/96411715_1.jpg</td>\n",
       "      <td>0</td>\n",
       "      <td>(20, 0.31, 0.72)</td>\n",
       "      <td>0</td>\n",
       "      <td>0</td>\n",
       "      <td>1</td>\n",
       "    </tr>\n",
       "  </tbody>\n",
       "</table>\n",
       "<p>127 rows × 6 columns</p>\n",
       "</div>"
      ],
      "text/plain": [
       "                                FileName ID                HSV Casual Formal  \\\n",
       "0    input/no_background/145298325_1.jpg  3     (0, 0.0, 0.99)      0      0   \n",
       "1    input/no_background/145336458_2.jpg  3    (8, 0.03, 0.95)      0      0   \n",
       "3    input/no_background/145364654_3.jpg  3  (108, 0.25, 0.08)      1      0   \n",
       "4    input/no_background/145398157_9.jpg  3  (171, 0.15, 0.18)      0      0   \n",
       "5    input/no_background/145447610_8.jpg  3   (18, 0.08, 0.99)      0      0   \n",
       "..                                   ... ..                ...    ...    ...   \n",
       "233  input/no_background/207571521_2.jpg  2   (16, 0.16, 0.85)      1      0   \n",
       "235  input/no_background/207586100_2.jpg  2  (335, 0.15, 0.86)      0      1   \n",
       "238  input/no_background/207600167_2.jpg  2    (9, 0.24, 0.84)      1      1   \n",
       "239  input/no_background/207602996_2.jpg  2  (225, 0.15, 0.11)      1      1   \n",
       "240   input/no_background/96411715_1.jpg  0   (20, 0.31, 0.72)      0      0   \n",
       "\n",
       "    Party  \n",
       "0       1  \n",
       "1       1  \n",
       "3       1  \n",
       "4       1  \n",
       "5       1  \n",
       "..    ...  \n",
       "233     1  \n",
       "235     1  \n",
       "238     1  \n",
       "239     1  \n",
       "240     1  \n",
       "\n",
       "[127 rows x 6 columns]"
      ]
     },
     "execution_count": 77,
     "metadata": {},
     "output_type": "execute_result"
    }
   ],
   "source": [
    "df[df['Party']==1]"
   ]
  },
  {
   "cell_type": "code",
   "execution_count": 88,
   "id": "030de32f",
   "metadata": {
    "id": "030de32f"
   },
   "outputs": [],
   "source": [
    "def is_analogous(hsv1, hsv2):\n",
    "    # Calculate the absolute difference in hue\n",
    "    hue_diff = abs(hsv1[0] - hsv2[0])\n",
    "    # Adjust for the circular nature of the color wheel\n",
    "    if hue_diff > 180:\n",
    "        hue_diff = 360 - hue_diff\n",
    "    # Check if the hues are within 30 degrees of each other\n",
    "    return hue_diff <= 30\n",
    "\n",
    "def is_harmonic(hsv1, hsv2):\n",
    "    # Example harmonic function implementation']\n",
    "    hue_diff = abs(hsv1[0] - hsv2[0])\n",
    "    return hue_diff < 30 or hue_diff > 330\n",
    "\n",
    "def is_complementary(hsv1, hsv2):\n",
    "    # Example complementary function implementation\n",
    "    hue_diff = abs(hsv1[0] - hsv2[0])\n",
    "    return abs(hue_diff - 180) < 10\n",
    "\n",
    "def Find_unique_outfit(df_occ, include_over=False):\n",
    "    if df_occ[df_occ['ID'] == 0].empty:\n",
    "        return \"No upper items available for selection.\"\n",
    "\n",
    "    upper_items = df_occ[df_occ['ID'] == 0]\n",
    "    lower_items = df_occ[df_occ['ID'] == 1]\n",
    "    shoes = df_occ[df_occ['ID'] == 3]\n",
    "    overs = df_occ[df_occ['ID'] == 2] if include_over else pd.DataFrame()\n",
    "\n",
    "    selected_uppers = upper_items if len(upper_items) <= 3 else upper_items.sample(n=3, replace=False)\n",
    "    print(selected_uppers)\n",
    "    color_relations = [is_harmonic, is_complementary, is_analogous]\n",
    "    relation_names = ['Harmonic', 'Complementary', 'Analogous']\n",
    "    outfits = []\n",
    "\n",
    "    for _, upper in selected_uppers.iterrows():\n",
    "        outfit_attempts = []\n",
    "        attempts = 0\n",
    "\n",
    "        while len(outfit_attempts) < 3 and attempts < 10:\n",
    "           # Check for uniqueness=\n",
    "            relation = color_relations[attempts % len(color_relations)]\n",
    "            relation_name = relation_names[attempts % len(color_relations)]\n",
    "            upper_hsv = upper['HSV']\n",
    "\n",
    "            shoe_candidates = shoes[shoes['HSV'].apply(lambda x: relation(x, upper_hsv))]\n",
    "            lower_candidates = lower_items[lower_items['HSV'].apply(lambda x: relation(x, upper_hsv))]\n",
    "            over_candidates = overs[overs['HSV'].apply(lambda x: relation(x, upper_hsv))] if include_over else pd.DataFrame()\n",
    "            if not shoe_candidates.empty:\n",
    "                shoe = shoe_candidates.sample(n=1)\n",
    "            else:\n",
    "                attempts += 1\n",
    "                continue\n",
    "\n",
    "            if not lower_candidates.empty:\n",
    "                lower = lower_candidates.sample(n=1)\n",
    "            else:\n",
    "                attempts += 1\n",
    "                continue\n",
    "\n",
    "            if include_over and not over_candidates.empty:\n",
    "                over = over_candidates.sample(n=1)\n",
    "            else:\n",
    "                over = pd.DataFrame()\n",
    "\n",
    "            # Construct a tentative outfit\n",
    "            tentative_outfit = [(\"Upper\", upper['FileName'], upper['HSV'])]\n",
    "            if not shoe.empty:\n",
    "                tentative_outfit.append((\"Shoes\", shoe.iloc[0]['FileName'], shoe.iloc[0]['HSV']))\n",
    "            if not lower.empty:\n",
    "                tentative_outfit.append((\"Lower\", lower.iloc[0]['FileName'], lower.iloc[0]['HSV']))\n",
    "            if not over.empty:\n",
    "                tentative_outfit.append((\"Over\", over.iloc[0]['FileName'], over.iloc[0]['HSV']))\n",
    "\n",
    "            outfit_tuple = tuple([item for item in tentative_outfit])\n",
    "\n",
    "\n",
    "\n",
    "            # Check for uniqueness\n",
    "            if outfit_tuple not in outfit_attempts:\n",
    "                outfit_attempts.append(outfit_tuple)\n",
    "                outfits.append(tentative_outfit)  # Add to final outfits list as the formatted structure\n",
    "\n",
    "            attempts += 1\n",
    "\n",
    "    # Format the output to include category, color, and relation type for each outfit item\n",
    "    formatted_outfits = []\n",
    "    for outfit in outfits:\n",
    "        formatted_outfit = {}\n",
    "        for item in outfit:\n",
    "            formatted_outfit[item[0]] = {'FileName': item[1], 'HSV': item[2]}\n",
    "        formatted_outfits.append(formatted_outfit)\n",
    "\n",
    "    return formatted_outfits\n"
   ]
  },
  {
   "cell_type": "code",
   "execution_count": 90,
   "id": "228e11e3",
   "metadata": {
    "colab": {
     "base_uri": "https://localhost:8080/"
    },
    "collapsed": true,
    "id": "228e11e3",
    "outputId": "146045be-0888-4818-b95d-1183125f9eab"
   },
   "outputs": [
    {
     "name": "stdout",
     "output_type": "stream",
     "text": [
      "                               FileName ID               HSV Casual Formal  \\\n",
      "66  input/no_background/177538765_1.jpg  0     (0, 0.0, 1.0)      0      0   \n",
      "79  input/no_background/177807948_1.jpg  0  (260, 0.1, 0.11)      1      0   \n",
      "77  input/no_background/177750783_1.jpg  0  (40, 0.01, 0.93)      0      0   \n",
      "\n",
      "   Party  \n",
      "66     1  \n",
      "79     1  \n",
      "77     1  \n",
      "                                FileName ID               HSV Casual Formal  \\\n",
      "101  input/no_background/178131353_1.jpg  0    (0, 0.0, 0.95)      0      0   \n",
      "102  input/no_background/178155703_2.jpg  0    (0, 0.0, 0.86)      1      0   \n",
      "80   input/no_background/177838651_1.jpg  0  (36, 0.15, 0.86)      0      0   \n",
      "\n",
      "    Party  \n",
      "101     1  \n",
      "102     1  \n",
      "80      1  \n",
      "{'Upper': {'FileName': 'input/no_background/178131353_1.jpg', 'HSV': (0, 0.0, 0.95)}, 'Shoes': {'FileName': 'input/no_background/145787887_3.jpg', 'HSV': (24, 0.02, 0.97)}, 'Lower': {'FileName': 'input/no_background/193186861_3.jpg', 'HSV': (20, 0.03, 0.9)}}\n",
      "{'Upper': {'FileName': 'input/no_background/178131353_1.jpg', 'HSV': (0, 0.0, 0.95)}, 'Shoes': {'FileName': 'input/no_background/145447610_9.jpg', 'HSV': (20, 0.01, 0.98)}, 'Lower': {'FileName': 'input/no_background/193186861_3.jpg', 'HSV': (20, 0.03, 0.9)}}\n",
      "{'Upper': {'FileName': 'input/no_background/178131353_1.jpg', 'HSV': (0, 0.0, 0.95)}, 'Shoes': {'FileName': 'input/no_background/145476098_2.jpg', 'HSV': (0, 0.0, 0.99)}, 'Lower': {'FileName': 'input/no_background/193610425_3.jpg', 'HSV': (0, 0.0, 0.95)}}\n",
      "{'Upper': {'FileName': 'input/no_background/178155703_2.jpg', 'HSV': (0, 0.0, 0.86)}, 'Shoes': {'FileName': 'input/no_background/145787887_3.jpg', 'HSV': (24, 0.02, 0.97)}, 'Lower': {'FileName': 'input/no_background/193213997_3.jpg', 'HSV': (20, 0.85, 0.81)}}\n",
      "{'Upper': {'FileName': 'input/no_background/178155703_2.jpg', 'HSV': (0, 0.0, 0.86)}, 'Shoes': {'FileName': 'input/no_background/145476098_2.jpg', 'HSV': (0, 0.0, 0.99)}, 'Lower': {'FileName': 'input/no_background/193213997_3.jpg', 'HSV': (20, 0.85, 0.81)}}\n",
      "{'Upper': {'FileName': 'input/no_background/178155703_2.jpg', 'HSV': (0, 0.0, 0.86)}, 'Shoes': {'FileName': 'input/no_background/145336458_2.jpg', 'HSV': (8, 0.03, 0.95)}, 'Lower': {'FileName': 'input/no_background/178194918_2.jpg', 'HSV': (0, 0.0, 0.09)}}\n",
      "{'Upper': {'FileName': 'input/no_background/177838651_1.jpg', 'HSV': (36, 0.15, 0.86)}, 'Shoes': {'FileName': 'input/no_background/146080201_1.jpg', 'HSV': (26, 0.2, 0.86)}, 'Lower': {'FileName': 'input/no_background/193151387_2.jpg', 'HSV': (60, 0.07, 0.17)}}\n",
      "{'Upper': {'FileName': 'input/no_background/177838651_1.jpg', 'HSV': (36, 0.15, 0.86)}, 'Shoes': {'FileName': 'input/no_background/145588019_3.jpg', 'HSV': (20, 0.01, 0.98)}, 'Lower': {'FileName': 'input/no_background/193211187_2.jpg', 'HSV': (48, 0.18, 0.91)}}\n",
      "{'Upper': {'FileName': 'input/no_background/177838651_1.jpg', 'HSV': (36, 0.15, 0.86)}, 'Shoes': {'FileName': 'input/no_background/145667456_3.jpg', 'HSV': (27, 0.04, 0.96)}, 'Lower': {'FileName': 'input/no_background/193211187_2.jpg', 'HSV': (48, 0.18, 0.91)}}\n"
     ]
    }
   ],
   "source": [
    "df_occ = df[df[\"Party\"] == 1]\n",
    "Find_unique_outfit(df_occ,include_over=False)\n",
    "# df_occ"
   ]
  },
  {
   "cell_type": "markdown",
   "id": "sTc0ugg5CD9x",
   "metadata": {
    "id": "sTc0ugg5CD9x"
   },
   "source": [
    "## Function for less than 100 items for a specific occasion\n"
   ]
  },
  {
   "cell_type": "code",
   "execution_count": 80,
   "id": "e2cad6f9",
   "metadata": {
    "colab": {
     "base_uri": "https://localhost:8080/"
    },
    "id": "e2cad6f9",
    "outputId": "2c525159-5966-4607-c939-5254b8be592f"
   },
   "outputs": [
    {
     "name": "stdout",
     "output_type": "stream",
     "text": [
      "{'Upper': {'Name': 0, 'Color': (260, 0.1, 0.11), 'Filename': 'input/no_background/177807948_1.jpg'}, 'Lower': {'Name': 1, 'Color': (48, 0.18, 0.91), 'Filename': 'input/no_background/193211187_2.jpg'}, 'Shoes': {'Name': 3, 'Color': (60, 0.03, 0.25), 'Filename': 'input/no_background/145586377_3.jpg'}}\n",
      "{'Upper': {'Name': 0, 'Color': (240, 0.03, 0.91), 'Filename': 'input/no_background/178060703_1.jpg'}, 'Lower': {'Name': 1, 'Color': (340, 0.05, 0.23), 'Filename': 'input/no_background/193511799_3.jpg'}, 'Shoes': {'Name': 3, 'Color': (20, 0.01, 0.96), 'Filename': 'input/no_background/145811724_6.jpg'}}\n",
      "{'Upper': {'Name': 0, 'Color': (135, 0.02, 0.89), 'Filename': 'input/no_background/178174244_1.jpg'}, 'Lower': {'Name': 1, 'Color': (330, 0.01, 0.65), 'Filename': 'input/no_background/193288386_3.jpg'}, 'Shoes': {'Name': 3, 'Color': (20, 0.01, 0.96), 'Filename': 'input/no_background/145811724_6.jpg'}}\n"
     ]
    }
   ],
   "source": [
    "import pandas as pd\n",
    "import random\n",
    "\n",
    "#     return combinations_list\n",
    "def find_unique_outfit_optimized(df_occ, include_over=False):\n",
    "    # Define categories\n",
    "    categories = ['Upper', 'Lower', 'Shoes']\n",
    "    if include_over:\n",
    "        categories.append('Over')\n",
    "    category_ids = {'Upper': 0, 'Lower': 1, 'Shoes': 3, 'Over': 2}\n",
    "\n",
    "    seen_combinations = set()\n",
    "    combinations_list = []\n",
    "\n",
    "    # Determine the smallest number of unique combinations possible\n",
    "    min_combinations_possible = 1\n",
    "    for category in categories:\n",
    "        cat_id = category_ids[category]\n",
    "        min_combinations_possible *= df_occ[df_occ['ID'] == cat_id].shape[0]\n",
    "\n",
    "    while len(combinations_list) < 3 and len(seen_combinations) < min_combinations_possible:\n",
    "        outfit = {}\n",
    "        outfit_key = []\n",
    "\n",
    "        for category in categories:\n",
    "            cat_id = category_ids[category]\n",
    "            if df_occ[df_occ['ID'] == cat_id].empty:\n",
    "                return f\"No items available in category: {category}\"\n",
    "            item = df_occ[df_occ['ID'] == cat_id].sample(n=1).iloc[0]\n",
    "            outfit[category] = {'Name': item['ID'], 'Color': item['HSV'], 'Filename': item['FileName']}\n",
    "            outfit_key.append((item['ID'], item['FileName']))  # Example key for uniqueness\n",
    "\n",
    "        outfit_key = tuple(outfit_key)  # Convert list to tuple to use as a set key\n",
    "\n",
    "        if outfit_key not in seen_combinations:\n",
    "            seen_combinations.add(outfit_key)\n",
    "            combinations_list.append(outfit)\n",
    "\n",
    "    return combinations_list\n",
    "\n",
    "combinations = find_unique_outfit_optimized(df[df['Party']==1],  False)\n",
    "for comb in combinations:\n",
    "    print(comb)"
   ]
  },
  {
   "cell_type": "markdown",
   "id": "f119e902",
   "metadata": {},
   "source": [
    "### Final Outfit Combinations"
   ]
  },
  {
   "cell_type": "code",
   "execution_count": 92,
   "id": "j_E66ju7_sOM",
   "metadata": {
    "id": "j_E66ju7_sOM"
   },
   "outputs": [],
   "source": [
    "def find_outfits(df,occasion=None , include_over= False):\n",
    "    df_occ = df[df[occasion] == 1] if occasion else df\n",
    "    if len(df_occ) >= 100:\n",
    "        print(\"enough sample to use color relations\")\n",
    "        result = Find_unique_outfit(df_occ,include_over)\n",
    "        print(\"the relation function has been called\")\n",
    "    else:\n",
    "        print(\"not enough sample to use color relations\")\n",
    "        result = find_unique_outfit_optimized(df_occ,include_over)\n",
    "        print(result)\n",
    "        print(\"the optimized function has been called\")\n",
    "    return result"
   ]
  },
  {
   "cell_type": "code",
   "execution_count": 98,
   "id": "bba6c368",
   "metadata": {
    "colab": {
     "base_uri": "https://localhost:8080/"
    },
    "collapsed": true,
    "id": "bba6c368",
    "outputId": "5ef35245-3c8f-4c10-d448-2159b4b89bfe"
   },
   "outputs": [
    {
     "name": "stdout",
     "output_type": "stream",
     "text": [
      "enough sample to use color relations\n",
      "                                FileName ID               HSV Casual Formal  \\\n",
      "96   input/no_background/178069915_1.jpg  0  (50, 0.04, 0.59)      1      0   \n",
      "118  input/no_background/178476125_1.jpg  0  (36, 0.04, 0.91)      1      0   \n",
      "106  input/no_background/178199817_1.jpg  0     (0, 0.0, 1.0)      1      0   \n",
      "\n",
      "    Party  \n",
      "96      0  \n",
      "118     1  \n",
      "106     0  \n",
      "the relation function has been called\n"
     ]
    }
   ],
   "source": [
    "outfits = find_outfits(df, \"Casual\", include_over = False)\n",
    "# outfits = find_unique_outfit_optimized(df_occ,include_over = True)"
   ]
  },
  {
   "cell_type": "code",
   "execution_count": 99,
   "id": "9e778e80",
   "metadata": {
    "scrolled": false
   },
   "outputs": [
    {
     "name": "stdout",
     "output_type": "stream",
     "text": [
      "----------------------------------------\n",
      "        \n",
      " \tNEW OUTFIT STARTS HERE\n",
      "        \n",
      "----------------------------------------\n"
     ]
    },
    {
     "data": {
      "image/jpeg": "[encoded data removed]",
      "image/png": "[encoded data removed]",
      "text/plain": [
       "<PIL.Image.Image image mode=RGB size=64x100>"
      ]
     },
     "metadata": {},
     "output_type": "display_data"
    },
    {
     "data": {
      "image/jpeg": "[encoded data removed]",
      "image/png": "[encoded data removed]",
      "text/plain": [
       "<PIL.Image.Image image mode=RGB size=100x49>"
      ]
     },
     "metadata": {},
     "output_type": "display_data"
    },
    {
     "data": {
      "image/jpeg": "[encoded data removed]",
      "image/png": "[encoded data removed]",
      "text/plain": [
       "<PIL.Image.Image image mode=RGB size=33x100>"
      ]
     },
     "metadata": {},
     "output_type": "display_data"
    },
    {
     "name": "stdout",
     "output_type": "stream",
     "text": [
      "----------------------------------------\n",
      "        \n",
      " \tNEW OUTFIT STARTS HERE\n",
      "        \n",
      "----------------------------------------\n"
     ]
    },
    {
     "data": {
      "image/jpeg": "[encoded data removed]",
      "image/png": "[encoded data removed]",
      "text/plain": [
       "<PIL.Image.Image image mode=RGB size=64x100>"
      ]
     },
     "metadata": {},
     "output_type": "display_data"
    },
    {
     "data": {
      "image/jpeg": "[encoded data removed]",
      "image/png": "[encoded data removed]",
      "text/plain": [
       "<PIL.Image.Image image mode=RGB size=86x100>"
      ]
     },
     "metadata": {},
     "output_type": "display_data"
    },
    {
     "data": {
      "image/jpeg": "[encoded data removed]",
      "image/png": "[encoded data removed]",
      "text/plain": [
       "<PIL.Image.Image image mode=RGB size=37x100>"
      ]
     },
     "metadata": {},
     "output_type": "display_data"
    },
    {
     "name": "stdout",
     "output_type": "stream",
     "text": [
      "----------------------------------------\n",
      "        \n",
      " \tNEW OUTFIT STARTS HERE\n",
      "        \n",
      "----------------------------------------\n"
     ]
    },
    {
     "data": {
      "image/jpeg": "[encoded data removed]",
      "image/png": "[encoded data removed]",
      "text/plain": [
       "<PIL.Image.Image image mode=RGB size=64x100>"
      ]
     },
     "metadata": {},
     "output_type": "display_data"
    },
    {
     "data": {
      "image/jpeg": "[encoded data removed]",
      "image/png": "[encoded data removed]",
      "text/plain": [
       "<PIL.Image.Image image mode=RGB size=75x100>"
      ]
     },
     "metadata": {},
     "output_type": "display_data"
    },
    {
     "data": {
      "image/jpeg": "[encoded data removed]",
      "image/png": "[encoded data removed]",
      "text/plain": [
       "<PIL.Image.Image image mode=RGB size=100x72>"
      ]
     },
     "metadata": {},
     "output_type": "display_data"
    },
    {
     "name": "stdout",
     "output_type": "stream",
     "text": [
      "----------------------------------------\n",
      "        \n",
      " \tNEW OUTFIT STARTS HERE\n",
      "        \n",
      "----------------------------------------\n"
     ]
    },
    {
     "data": {
      "image/jpeg": "[encoded data removed]",
      "image/png": "[encoded data removed]",
      "text/plain": [
       "<PIL.Image.Image image mode=RGB size=91x100>"
      ]
     },
     "metadata": {},
     "output_type": "display_data"
    },
    {
     "data": {
      "image/jpeg": "[encoded data removed]",
      "image/png": "[encoded data removed]",
      "text/plain": [
       "<PIL.Image.Image image mode=RGB size=79x100>"
      ]
     },
     "metadata": {},
     "output_type": "display_data"
    },
    {
     "data": {
      "image/jpeg": "[encoded data removed]",
      "image/png": "[encoded data removed]",
      "text/plain": [
       "<PIL.Image.Image image mode=RGB size=35x100>"
      ]
     },
     "metadata": {},
     "output_type": "display_data"
    },
    {
     "name": "stdout",
     "output_type": "stream",
     "text": [
      "----------------------------------------\n",
      "        \n",
      " \tNEW OUTFIT STARTS HERE\n",
      "        \n",
      "----------------------------------------\n"
     ]
    },
    {
     "data": {
      "image/jpeg": "[encoded data removed]",
      "image/png": "[encoded data removed]",
      "text/plain": [
       "<PIL.Image.Image image mode=RGB size=91x100>"
      ]
     },
     "metadata": {},
     "output_type": "display_data"
    },
    {
     "data": {
      "image/jpeg": "[encoded data removed]",
      "image/png": "[encoded data removed]",
      "text/plain": [
       "<PIL.Image.Image image mode=RGB size=100x61>"
      ]
     },
     "metadata": {},
     "output_type": "display_data"
    },
    {
     "data": {
      "image/jpeg": "[encoded data removed]",
      "image/png": "[encoded data removed]",
      "text/plain": [
       "<PIL.Image.Image image mode=RGB size=100x79>"
      ]
     },
     "metadata": {},
     "output_type": "display_data"
    },
    {
     "name": "stdout",
     "output_type": "stream",
     "text": [
      "----------------------------------------\n",
      "        \n",
      " \tNEW OUTFIT STARTS HERE\n",
      "        \n",
      "----------------------------------------\n"
     ]
    },
    {
     "data": {
      "image/jpeg": "[encoded data removed]",
      "image/png": "[encoded data removed]",
      "text/plain": [
       "<PIL.Image.Image image mode=RGB size=91x100>"
      ]
     },
     "metadata": {},
     "output_type": "display_data"
    },
    {
     "data": {
      "image/jpeg": "[encoded data removed]",
      "image/png": "[encoded data removed]",
      "text/plain": [
       "<PIL.Image.Image image mode=RGB size=100x90>"
      ]
     },
     "metadata": {},
     "output_type": "display_data"
    },
    {
     "data": {
      "image/jpeg": "[encoded data removed]",
      "image/png": "[encoded data removed]",
      "text/plain": [
       "<PIL.Image.Image image mode=RGB size=37x100>"
      ]
     },
     "metadata": {},
     "output_type": "display_data"
    },
    {
     "name": "stdout",
     "output_type": "stream",
     "text": [
      "----------------------------------------\n",
      "        \n",
      " \tNEW OUTFIT STARTS HERE\n",
      "        \n",
      "----------------------------------------\n"
     ]
    },
    {
     "data": {
      "image/jpeg": "[encoded data removed]",
      "image/png": "[encoded data removed]",
      "text/plain": [
       "<PIL.Image.Image image mode=RGB size=75x100>"
      ]
     },
     "metadata": {},
     "output_type": "display_data"
    },
    {
     "data": {
      "image/jpeg": "[encoded data removed]",
      "image/png": "[encoded data removed]",
      "text/plain": [
       "<PIL.Image.Image image mode=RGB size=100x42>"
      ]
     },
     "metadata": {},
     "output_type": "display_data"
    },
    {
     "data": {
      "image/jpeg": "[encoded data removed]",
      "image/png": "[encoded data removed]",
      "text/plain": [
       "<PIL.Image.Image image mode=RGB size=37x100>"
      ]
     },
     "metadata": {},
     "output_type": "display_data"
    },
    {
     "name": "stdout",
     "output_type": "stream",
     "text": [
      "----------------------------------------\n",
      "        \n",
      " \tNEW OUTFIT STARTS HERE\n",
      "        \n",
      "----------------------------------------\n"
     ]
    },
    {
     "data": {
      "image/jpeg": "[encoded data removed]",
      "image/png": "[encoded data removed]",
      "text/plain": [
       "<PIL.Image.Image image mode=RGB size=75x100>"
      ]
     },
     "metadata": {},
     "output_type": "display_data"
    },
    {
     "data": {
      "image/jpeg": "[encoded data removed]",
      "image/png": "[encoded data removed]",
      "text/plain": [
       "<PIL.Image.Image image mode=RGB size=100x58>"
      ]
     },
     "metadata": {},
     "output_type": "display_data"
    },
    {
     "data": {
      "image/jpeg": "[encoded data removed]",
      "image/png": "[encoded data removed]",
      "text/plain": [
       "<PIL.Image.Image image mode=RGB size=37x100>"
      ]
     },
     "metadata": {},
     "output_type": "display_data"
    },
    {
     "name": "stdout",
     "output_type": "stream",
     "text": [
      "----------------------------------------\n",
      "        \n",
      " \tNEW OUTFIT STARTS HERE\n",
      "        \n",
      "----------------------------------------\n"
     ]
    },
    {
     "data": {
      "image/jpeg": "[encoded data removed]",
      "image/png": "[encoded data removed]",
      "text/plain": [
       "<PIL.Image.Image image mode=RGB size=75x100>"
      ]
     },
     "metadata": {},
     "output_type": "display_data"
    },
    {
     "data": {
      "image/jpeg": "[encoded data removed]",
      "image/png": "[encoded data removed]",
      "text/plain": [
       "<PIL.Image.Image image mode=RGB size=100x56>"
      ]
     },
     "metadata": {},
     "output_type": "display_data"
    },
    {
     "data": {
      "image/jpeg": "[encoded data removed]",
      "image/png": "[encoded data removed]",
      "text/plain": [
       "<PIL.Image.Image image mode=RGB size=38x100>"
      ]
     },
     "metadata": {},
     "output_type": "display_data"
    }
   ],
   "source": [
    "for outfit in outfits:\n",
    "    print (\n",
    "        \"\"\"----------------------------------------\n",
    "        \\n \\tNEW OUTFIT STARTS HERE\n",
    "        \\n----------------------------------------\"\"\")\n",
    "    for item in outfit:\n",
    "        img = Image.open(outfit[item]['FileName'])\n",
    "#         img_resized = img.resize((50))\n",
    "        width, height = img.size  # Get original dimensions\n",
    "\n",
    "        # Calculate half the width and height\n",
    "        new_width = width // 4\n",
    "        new_height = height // 4\n",
    "\n",
    "        # Resize the image using the calculated dimensions\n",
    "        img_resized = img.resize((new_width, new_height))\n",
    "        display(img_resized)\n",
    "#     test = outfit\n",
    "    \n",
    "# for item in test:\n",
    "#     print(test[item]['Filename'])"
   ]
  }
 ],
 "metadata": {
  "colab": {
   "include_colab_link": true,
   "provenance": []
  },
  "kernelspec": {
   "display_name": "Python 3 (ipykernel)",
   "language": "python",
   "name": "python3"
  },
  "language_info": {
   "codemirror_mode": {
    "name": "ipython",
    "version": 3
   },
   "file_extension": ".py",
   "mimetype": "text/x-python",
   "name": "python",
   "nbconvert_exporter": "python",
   "pygments_lexer": "ipython3",
   "version": "3.11.5"
  }
 },
 "nbformat": 4,
 "nbformat_minor": 5
}
